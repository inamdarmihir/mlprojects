{
  "metadata": {
    "kernelspec": {
      "language": "python",
      "display_name": "Python 3",
      "name": "python3"
    },
    "language_info": {
      "name": "python",
      "version": "3.7.12",
      "mimetype": "text/x-python",
      "codemirror_mode": {
        "name": "ipython",
        "version": 3
      },
      "pygments_lexer": "ipython3",
      "nbconvert_exporter": "python",
      "file_extension": ".py"
    },
    "colab": {
      "provenance": [],
      "include_colab_link": true
    }
  },
  "nbformat_minor": 0,
  "nbformat": 4,
  "cells": [
    {
      "cell_type": "markdown",
      "metadata": {
        "id": "view-in-github",
        "colab_type": "text"
      },
      "source": [
        "<a href=\"https://colab.research.google.com/github/inamdarmihir/mlprojects/blob/main/sentiment_analysis_imdb.ipynb\" target=\"_parent\"><img src=\"https://colab.research.google.com/assets/colab-badge.svg\" alt=\"Open In Colab\"/></a>"
      ]
    },
    {
      "cell_type": "code",
      "source": [
        "# This Python 3 environment comes with many helpful analytics libraries installed\n",
        "# It is defined by the kaggle/python Docker image: https://github.com/kaggle/docker-python\n",
        "# For example, here's several helpful packages to load\n",
        "\n",
        "import numpy as np # linear algebra\n",
        "import pandas as pd # data processing, CSV file I/O (e.g. pd.read_csv)\n",
        "\n",
        "# Input data files are available in the read-only \"../input/\" directory\n",
        "# For example, running this (by clicking run or pressing Shift+Enter) will list all files under the input directory\n",
        "\n",
        "import os\n",
        "for dirname, _, filenames in os.walk('/kaggle/input'):\n",
        "    for filename in filenames:\n",
        "        print(os.path.join(dirname, filename))\n",
        "\n",
        "# You can write up to 20GB to the current directory (/kaggle/working/) that gets preserved as output when you create a version using \"Save & Run All\" \n",
        "# You can also write temporary files to /kaggle/temp/, but they won't be saved outside of the current session"
      ],
      "metadata": {
        "_uuid": "8f2839f25d086af736a60e9eeb907d3b93b6e0e5",
        "_cell_guid": "b1076dfc-b9ad-4769-8c92-a6c4dae69d19",
        "execution": {
          "iopub.status.busy": "2022-12-09T12:11:04.230005Z",
          "iopub.execute_input": "2022-12-09T12:11:04.230834Z",
          "iopub.status.idle": "2022-12-09T12:11:04.253952Z",
          "shell.execute_reply.started": "2022-12-09T12:11:04.230787Z",
          "shell.execute_reply": "2022-12-09T12:11:04.253078Z"
        },
        "trusted": true,
        "id": "KIyG8GuP3aRu",
        "outputId": "d40d82e3-b256-4eb6-fe20-f737fb0f966c"
      },
      "execution_count": null,
      "outputs": [
        {
          "name": "stdout",
          "text": "/kaggle/input/imdb-dataset-of-50k-movie-reviews/IMDB Dataset.csv\n",
          "output_type": "stream"
        }
      ]
    },
    {
      "cell_type": "markdown",
      "source": [
        "Importing essential libraries:"
      ],
      "metadata": {
        "id": "6O9AAn2W3aR5"
      }
    },
    {
      "cell_type": "code",
      "source": [
        "import string\n",
        "import re\n",
        "import codecs\n",
        "import numpy as np\n",
        "import pandas as pd\n",
        "import seaborn as sns\n",
        "import matplotlib.pyplot as plt\n",
        "from sklearn import feature_extraction\n",
        "from sklearn import linear_model\n",
        "from sklearn import pipeline\n",
        "from sklearn.model_selection import train_test_split\n",
        "from sklearn import metrics\n",
        "import warnings\n",
        "warnings.simplefilter(\"ignore\")"
      ],
      "metadata": {
        "execution": {
          "iopub.status.busy": "2022-12-09T12:12:45.396124Z",
          "iopub.execute_input": "2022-12-09T12:12:45.396561Z",
          "iopub.status.idle": "2022-12-09T12:12:45.832828Z",
          "shell.execute_reply.started": "2022-12-09T12:12:45.396526Z",
          "shell.execute_reply": "2022-12-09T12:12:45.831621Z"
        },
        "trusted": true,
        "id": "SN9GqVS53aR8"
      },
      "execution_count": null,
      "outputs": []
    },
    {
      "cell_type": "code",
      "source": [
        "!pip install nlp\n",
        "%matplotlib inline\n",
        "\n",
        "import tensorflow as tf\n",
        "import nlp\n",
        "import random\n",
        "\n",
        "\n",
        "def show_history(h):\n",
        "    epochs_trained = len(h.history['loss'])\n",
        "    plt.figure(figsize=(16, 6))\n",
        "\n",
        "    plt.subplot(1, 2, 1)\n",
        "    plt.plot(range(0, epochs_trained), h.history.get('accuracy'), label='Training')\n",
        "    plt.plot(range(0, epochs_trained), h.history.get('val_accuracy'), label='Validation')\n",
        "    plt.ylim([0., 1.])\n",
        "    plt.xlabel('Epochs')\n",
        "    plt.ylabel('Accuracy')\n",
        "    plt.legend()\n",
        "\n",
        "    plt.subplot(1, 2, 2)\n",
        "    plt.plot(range(0, epochs_trained), h.history.get('loss'), label='Training')\n",
        "    plt.plot(range(0, epochs_trained), h.history.get('val_loss'), label='Validation')\n",
        "    plt.xlabel('Epochs')\n",
        "    plt.ylabel('Loss')\n",
        "    plt.legend()\n",
        "    plt.show()\n",
        "\n",
        "    \n",
        "def show_confusion_matrix(y_true, y_pred, classes):\n",
        "    from sklearn.metrics import confusion_matrix\n",
        "    \n",
        "    cm = confusion_matrix(y_true, y_pred, normalize='true')\n",
        "\n",
        "    plt.figure(figsize=(8, 8))\n",
        "    sp = plt.subplot(1, 1, 1)\n",
        "    ctx = sp.matshow(cm)\n",
        "    plt.xticks(list(range(0, 6)), labels=classes)\n",
        "    plt.yticks(list(range(0, 6)), labels=classes)\n",
        "    plt.colorbar(ctx)\n",
        "    plt.show()\n",
        "\n",
        "    \n",
        "print('Using TensorFlow version', tf.__version__)"
      ],
      "metadata": {
        "execution": {
          "iopub.status.busy": "2022-12-09T12:12:58.716981Z",
          "iopub.execute_input": "2022-12-09T12:12:58.717434Z",
          "iopub.status.idle": "2022-12-09T12:13:16.878121Z",
          "shell.execute_reply.started": "2022-12-09T12:12:58.717400Z",
          "shell.execute_reply": "2022-12-09T12:13:16.876708Z"
        },
        "trusted": true,
        "id": "73IK2ZDV3aR-",
        "outputId": "81c6cad4-36d4-4974-d337-fb978453bfd9"
      },
      "execution_count": null,
      "outputs": [
        {
          "name": "stdout",
          "text": "Collecting nlp\n  Downloading nlp-0.4.0-py3-none-any.whl (1.7 MB)\n\u001b[2K     \u001b[90m━━━━━━━━━━━━━━━━━━━━━━━━━━━━━━━━━━━━━━━━\u001b[0m \u001b[32m1.7/1.7 MB\u001b[0m \u001b[31m3.4 MB/s\u001b[0m eta \u001b[36m0:00:00\u001b[0m00:01\u001b[0m00:01\u001b[0m0m\n\u001b[?25hRequirement already satisfied: numpy in /opt/conda/lib/python3.7/site-packages (from nlp) (1.21.6)\nRequirement already satisfied: xxhash in /opt/conda/lib/python3.7/site-packages (from nlp) (3.0.0)\nRequirement already satisfied: pyarrow>=0.16.0 in /opt/conda/lib/python3.7/site-packages (from nlp) (8.0.0)\nRequirement already satisfied: requests>=2.19.0 in /opt/conda/lib/python3.7/site-packages (from nlp) (2.28.1)\nRequirement already satisfied: filelock in /opt/conda/lib/python3.7/site-packages (from nlp) (3.7.1)\nRequirement already satisfied: pandas in /opt/conda/lib/python3.7/site-packages (from nlp) (1.3.5)\nRequirement already satisfied: dill in /opt/conda/lib/python3.7/site-packages (from nlp) (0.3.5.1)\nRequirement already satisfied: tqdm>=4.27 in /opt/conda/lib/python3.7/site-packages (from nlp) (4.64.0)\nRequirement already satisfied: certifi>=2017.4.17 in /opt/conda/lib/python3.7/site-packages (from requests>=2.19.0->nlp) (2022.9.24)\nRequirement already satisfied: urllib3<1.27,>=1.21.1 in /opt/conda/lib/python3.7/site-packages (from requests>=2.19.0->nlp) (1.26.12)\nRequirement already satisfied: idna<4,>=2.5 in /opt/conda/lib/python3.7/site-packages (from requests>=2.19.0->nlp) (3.3)\nRequirement already satisfied: charset-normalizer<3,>=2 in /opt/conda/lib/python3.7/site-packages (from requests>=2.19.0->nlp) (2.1.0)\nRequirement already satisfied: python-dateutil>=2.7.3 in /opt/conda/lib/python3.7/site-packages (from pandas->nlp) (2.8.2)\nRequirement already satisfied: pytz>=2017.3 in /opt/conda/lib/python3.7/site-packages (from pandas->nlp) (2022.1)\nRequirement already satisfied: six>=1.5 in /opt/conda/lib/python3.7/site-packages (from python-dateutil>=2.7.3->pandas->nlp) (1.15.0)\nInstalling collected packages: nlp\nSuccessfully installed nlp-0.4.0\n\u001b[33mWARNING: Running pip as the 'root' user can result in broken permissions and conflicting behaviour with the system package manager. It is recommended to use a virtual environment instead: https://pip.pypa.io/warnings/venv\u001b[0m\u001b[33m\n\u001b[0mUsing TensorFlow version 2.6.4\n",
          "output_type": "stream"
        }
      ]
    },
    {
      "cell_type": "markdown",
      "source": [
        "Loaing the Dataset:"
      ],
      "metadata": {
        "id": "MVHCcEy23aSB"
      }
    },
    {
      "cell_type": "code",
      "source": [
        "df = pd.read_csv(\"/kaggle/input/imdb-dataset-of-50k-movie-reviews/IMDB Dataset.csv\")\n",
        "df[\"review\"].value_counts()"
      ],
      "metadata": {
        "execution": {
          "iopub.status.busy": "2022-12-09T12:13:16.880788Z",
          "iopub.execute_input": "2022-12-09T12:13:16.881998Z",
          "iopub.status.idle": "2022-12-09T12:13:18.578316Z",
          "shell.execute_reply.started": "2022-12-09T12:13:16.881921Z",
          "shell.execute_reply": "2022-12-09T12:13:18.577167Z"
        },
        "trusted": true,
        "id": "MZx_JvDN3aSC",
        "outputId": "e8f192f7-b8a7-4c66-c06e-24e5fc8821fd"
      },
      "execution_count": null,
      "outputs": [
        {
          "execution_count": 9,
          "output_type": "execute_result",
          "data": {
            "text/plain": "Loved today's show!!! It was a variety and not solely cooking (which would have been great too). Very stimulating and captivating, always keeping the viewer peeking around the corner to see what was coming up next. She is as down to earth and as personable as you get, like one of us which made the show all the more enjoyable. Special guests, who are friends as well made for a nice surprise too. Loved the 'first' theme and that the audience was invited to play along too. I must admit I was shocked to see her come in under her time limits on a few things, but she did it and by golly I'll be writing those recipes down. Saving time in the kitchen means more time with family. Those who haven't tuned in yet, find out what channel and the time, I assure you that you won't be disappointed.                                                                                                                                                                                                                                                                                                                                                                                                                                                                                                                                                                                                                                                                                                                                                                                                                                                                                                                                                        5\nHilarious, clean, light-hearted, and quote-worthy. What else can you ask for in a film? This is my all-time, number one favorite movie. Ever since I was a little girl, I've dreamed of owning a blue van with flames and an observation bubble.<br /><br />The cliché characters in ridiculous situations are what make this film such great fun. The wonderful comedic chemistry between Stephen Furst (Harold) and Andy Tennant (Melio) make up most of my favorite parts of the movie. And who didn't love the hopeless awkwardness of Flynch? Don't forget the airport antics of Leon's cronies, dressed up as Hari Krishnas: dancing, chanting and playing the tambourine--unbeatable! The clues are genius, the locations are classic, and the plot is timeless.<br /><br />A word to the wise, if you didn't watch this film when you were little, it probably won't win a place in your heart today. But nevertheless give it a chance, you may find that \"It doesn't matter what you say, it doesn't matter what you do, you've gotta play.\"                                                                                                                                                                                                                                                                                                                                                                                                                                                                                                                                                                                                                                                                                                                          4\nHow has this piece of crap stayed on TV this long? It's terrible. It makes me want to shoot someone. It's so fake that it is actually worse than a 1940s sci-fi movie. I'd rather have a stroke than watch this nonsense. I remember watching it when it first came out. I thought, hey this could be interesting, then I found out how absolutely, insanely, ridiculously stupid it really was. It was so bad that I actually took out my pocket knife and stuck my hand to the table.<br /><br />Please people, stop watching this and all other reality shows, they're the trash that is jamming the networks and canceling quality programming that requires some thought to create.                                                                                                                                                                                                                                                                                                                                                                                                                                                                                                                                                                                                                                                                                                                                                                                                                                                                                                                                                                                                                                                                                        3\nNickelodeon has gone down the toilet. They have kids saying things like \"Oh my God!\" and \"We're screwed\"<br /><br />This show promotes hate for people who aren't good looking, or aren't in the in crowd. It say that sexual promiscuity is alright, by having girls slobbering over shirtless boys. Not to mention the overweight boy who takes off his shirt. The main characters basically shun anyone out of the ordinary. Carly's friend Sam, who may be a lesbian, beats the snot out of anybody that crosses her path, which says it's alright to be a b**ch. This show has so much negativity in it that nobody should watch it! I give it a 0 out of 10!!!                                                                                                                                                                                                                                                                                                                                                                                                                                                                                                                                                                                                                                                                                                                                                                                                                                                                                                                                                                                                                                                                                                            3\nYou do realize that you've been watching the EXACT SAME SHOW for eight years, right? I could understand the initial curiosity of seeing strangers co-exist on an Island, but you'd think that after watching unkempt, stink-ladened heroes run roughshod through the bush with an egg on a spoon for half a decade would be enough to get you to commit to something a little more original (and interesting).<br /><br />And I'm not even speaking of the shows validity which for the record I find questionable. It's just hard to suspend disbelief for \"Bushy Bill\" eating a rat when the entire crew of producers and camera people are housed in an air conditioned make-shift bio-dome sipping frosty mochcinno's with moxy.<br /><br />What's the appeal here? I don't care about these people or their meandering lives. I just don't get it. But if you DO find yourself being captivated by hairy, unwashed people, I suggest you turn off your TV and just take a trip to your local bus station where you can see people like this in their TRUE habitat. They call them HOMELESS PEOPLE, and free of charge, you can sit back and marvel in their uncanny ability to retrieve various cigarette debris from a plethora of garbage canisters, eventually striking \"pay-dirt\" and fashioning a homemade Dr. Frankenstein-styled cancer-stick, all the while begging people for change for food when the stink of \"Aqua Velva\" on their breath is enough to suggest otherwise. And the best part? Much like Survivor, every week one member of the tribe \"Leaves\" the \"Island\" when they are unceremoniously sent packing to the local Institution when the frightening unmedicated state of full-blown schizophrenia kicks into gear! Now THAT'S ENTERTAINMENT!    3\n                                                                                                                                                                                                                                                                                                                                                                                                                                                                                                                                                                                                                                                                                                                                                                                                                                                                                                                                                                                                                                                                                                                                                                                                                                                                                                                                                                                                                                                                                                                                                                                                                                                                                                                                                                               ..\nREVOLT OF THE ZOMBIES (2 outta 5 stars) No, this is not a long-lost ancestor to the classic George A. Romero zombie flicks. This is a low-budget potboiler from 1936 that probably seemed very cool to audiences of the time... but seems awfully routine these days. There is actually a pretty good scene at the start of a soldier firing off his pistol into a horde of approaching zombie soldiers... and a close-up of bullets entering the bare chest of one of them. The effect looks hopelessly fake these days but in 1936 I'm sure it had audiences gasping. The story concerns the search for the secret of mind control... ostensibly to create an unstoppable zombie army... but later as a means for one character to win the woman he loves. The movie is barely an hour long but moves at a snail's pace so it seems feature-length, believe me! There really isn't much to recommend it... you may get some amusement from the faked studio shots of the star \"wading\" through a \"swamp\". The ending is interesting... so I'd say the movie is worth seeing at least once. More than likely you will see it as an extra feature on some cheap \"4 movies on 1 DVD\" compilation at Wal-Mart for five bucks. Hey, it's well worth the money...                                                                                                                                                                                                                                                                                                                                                                                                                                                                                                                   1\nAt least among those movies with 100 votes or more. Nominated for best screenplay written directly for the screen? Brenda Blethyn nominated for best actress in a leading role?? Nominated for best picture?? I always disagree with many of the Oscar picks, but this movie might very well be the worst movie of all time to be honored by the Academy. The writing and acting were both horrible. Blethyn's perfomance in particular was one of the worst I've ever seen, and probably the most over-rated acting performance of all time. Awful movie, not worthy of the big screen and not worthy of any cable or television channel that has ever played it, including HBO(where I saw it). I am only thankful I didn't actually pay to see one of the most over-rated movies of all time.                                                                                                                                                                                                                                                                                                                                                                                                                                                                                                                                                                                                                                                                                                                                                                                                                                                                                                                                                                                1\nI rented this movie under the impression that it was \"Scarecrow 3:Dark Harvest\", thinking it was a continuation in the Scarecrow Slayer series (another extremely laughable and all together awful series of movies). I wasn't disappointed though. It was just as awful, if not worse, than what I expected. I was laughing throughout the entire movie. Every piece of bad acting, poorly shot and cut footage, and terrible special effects is what makes this movie worth renting.<br /><br />The special features include a pathetic view into the cast and crew's six months of filming.<br /><br />Favorite line, \"The sins of my forefathers! They've trickled down to this very moment of time!\"                                                                                                                                                                                                                                                                                                                                                                                                                                                                                                                                                                                                                                                                                                                                                                                                                                                                                                                                                                                                                                                                       1\nSurreal film noir released soon after the \"real,\" genre-defining classics \"The Maltese Falcon,\" \"Double Indemnity\" and \"The Postman Always Rings Twice.\" Welles films shouldn't be evaluated against others. He was playing by different rules. In fact, he was playing. This starts where other femme fatale films leave off, so the vaguely logical (but interesting) whodunit is embellished with a display of Wellesian scenes (typical rapid-fire style), dialog (lots of \"hard-boiled\" philosophy), and unusual acting (good Hayworth presumably intentionally one-dimensional). To Welles \"genre\" may have meant \"formula\" but he seemed to like using \"mysteries\" as backgrounds for his \"entertainments.\"                                                                                                                                                                                                                                                                                                                                                                                                                                                                                                                                                                                                                                                                                                                                                                                                                                                                                                                                                                                                                                                              1\nNo one expects the Star Trek movies to be high art, but the fans do expect a movie that is as good as some of the best episodes. Unfortunately, this movie had a muddled, implausible plot that just left me cringing - this is by far the worst of the nine (so far) movies. Even the chance to watch the well known characters interact in another movie can't save this movie - including the goofy scenes with Kirk, Spock and McCoy at Yosemite.<br /><br />I would say this movie is not worth a rental, and hardly worth watching, however for the True Fan who needs to see all the movies, renting this movie is about the only way you'll see it - even the cable channels avoid this movie.                                                                                                                                                                                                                                                                                                                                                                                                                                                                                                                                                                                                                                                                                                                                                                                                                                                                                                                                                                                                                                                                          1\nName: review, Length: 49582, dtype: int64"
          },
          "metadata": {}
        }
      ]
    },
    {
      "cell_type": "code",
      "source": [
        "#Separating Independent and Dependent features\n",
        "X = df[\"review\"]\n",
        "y = df[\"sentiment\"]\n",
        "\n",
        "#Label Encoding to convert it into a numerical form\n",
        "from sklearn.preprocessing import LabelEncoder\n",
        "le = LabelEncoder()\n",
        "y = le.fit_transform(y)"
      ],
      "metadata": {
        "execution": {
          "iopub.status.busy": "2022-12-09T12:13:24.249486Z",
          "iopub.execute_input": "2022-12-09T12:13:24.249961Z",
          "iopub.status.idle": "2022-12-09T12:13:24.269276Z",
          "shell.execute_reply.started": "2022-12-09T12:13:24.249910Z",
          "shell.execute_reply": "2022-12-09T12:13:24.267909Z"
        },
        "trusted": true,
        "id": "SjYkreDV3aSE"
      },
      "execution_count": null,
      "outputs": []
    },
    {
      "cell_type": "code",
      "source": [
        "for char in string.punctuation:\n",
        "  print(char, end=\" \")\n",
        "translate_table = dict((ord(char), None) for char in string.punctuation)"
      ],
      "metadata": {
        "execution": {
          "iopub.status.busy": "2022-12-09T12:13:25.989457Z",
          "iopub.execute_input": "2022-12-09T12:13:25.989872Z",
          "iopub.status.idle": "2022-12-09T12:13:25.997585Z",
          "shell.execute_reply.started": "2022-12-09T12:13:25.989839Z",
          "shell.execute_reply": "2022-12-09T12:13:25.996015Z"
        },
        "trusted": true,
        "id": "WZJYDA493aSG",
        "outputId": "db411a57-3018-4dbb-a7d2-998dd4e40ed0"
      },
      "execution_count": null,
      "outputs": [
        {
          "name": "stdout",
          "text": "! \" # $ % & ' ( ) * + , - . / : ; < = > ? @ [ \\ ] ^ _ ` { | } ~ ",
          "output_type": "stream"
        }
      ]
    },
    {
      "cell_type": "markdown",
      "source": [
        "Data pre-processing:"
      ],
      "metadata": {
        "id": "TrkxcudL3aSH"
      }
    },
    {
      "cell_type": "code",
      "source": [
        "data_list = []\n",
        "\n",
        "\n",
        "# iterating through all the text:\n",
        "for text in X:         \n",
        "    text = re.sub(r'[!@#$(),n\"%^*?:;~`0-9]', ' ', text)      # removing the symbols and numbers\n",
        "    text = re.sub(r'[[]]', ' ', text)   \n",
        "    text = text.lower()                                      # converting the text to lower case\n",
        "    data_list.append(text)"
      ],
      "metadata": {
        "execution": {
          "iopub.status.busy": "2022-12-09T12:11:10.559492Z",
          "iopub.status.idle": "2022-12-09T12:11:10.560108Z",
          "shell.execute_reply.started": "2022-12-09T12:11:10.559786Z",
          "shell.execute_reply": "2022-12-09T12:11:10.559813Z"
        },
        "trusted": true,
        "id": "FaZqC3uq3aSJ"
      },
      "execution_count": null,
      "outputs": []
    },
    {
      "cell_type": "markdown",
      "source": [
        "Vectorizer and Model Fitting Pipeline:"
      ],
      "metadata": {
        "id": "Rp7nzzdd3aSK"
      }
    },
    {
      "cell_type": "code",
      "source": [
        "vectorizer = feature_extraction.text.TfidfVectorizer(ngram_range=(1,3), analyzer = 'char')\n",
        "\n",
        "pipe_lr_r13 = pipeline.Pipeline([('vectorizer', vectorizer),\n",
        "                                 ('clf', linear_model.LogisticRegression())])"
      ],
      "metadata": {
        "execution": {
          "iopub.status.busy": "2022-12-09T12:13:33.450780Z",
          "iopub.execute_input": "2022-12-09T12:13:33.452115Z",
          "iopub.status.idle": "2022-12-09T12:13:33.458341Z",
          "shell.execute_reply.started": "2022-12-09T12:13:33.452067Z",
          "shell.execute_reply": "2022-12-09T12:13:33.456965Z"
        },
        "trusted": true,
        "id": "Rnz2MGAr3aSL"
      },
      "execution_count": null,
      "outputs": []
    },
    {
      "cell_type": "markdown",
      "source": [
        "Model Fitting/Training:"
      ],
      "metadata": {
        "id": "jy7BVjFs3aSM"
      }
    },
    {
      "cell_type": "code",
      "source": [
        "#train-test split\n",
        "from sklearn.model_selection import train_test_split\n",
        "x_train, x_test, y_train, y_test = train_test_split(X, y, test_size = 0.25, random_state=42)\n",
        "\n",
        "#Model Fitting:\n",
        "pipe_lr_r13.fit(x_train, y_train)\n",
        "     "
      ],
      "metadata": {
        "execution": {
          "iopub.status.busy": "2022-12-09T12:18:02.982073Z",
          "iopub.execute_input": "2022-12-09T12:18:02.982503Z",
          "iopub.status.idle": "2022-12-09T12:19:46.495403Z",
          "shell.execute_reply.started": "2022-12-09T12:18:02.982465Z",
          "shell.execute_reply": "2022-12-09T12:19:46.493822Z"
        },
        "trusted": true,
        "id": "1f8k2MZM3aSM",
        "outputId": "f1a4e070-283f-4e32-bc66-44ecdab2ea06"
      },
      "execution_count": null,
      "outputs": [
        {
          "execution_count": 23,
          "output_type": "execute_result",
          "data": {
            "text/plain": "Pipeline(steps=[('vectorizer',\n                 TfidfVectorizer(analyzer='char', ngram_range=(1, 3))),\n                ('clf', LogisticRegression())])"
          },
          "metadata": {}
        }
      ]
    },
    {
      "cell_type": "markdown",
      "source": [
        "Model Predicition/Evaluation:"
      ],
      "metadata": {
        "id": "hS50Iy963aSO"
      }
    },
    {
      "cell_type": "code",
      "source": [
        "#predict output for test dataset\n",
        "y_pred = pipe_lr_r13.predict(x_test)"
      ],
      "metadata": {
        "execution": {
          "iopub.status.busy": "2022-12-09T12:28:07.026049Z",
          "iopub.execute_input": "2022-12-09T12:28:07.026477Z",
          "iopub.status.idle": "2022-12-09T12:28:30.762867Z",
          "shell.execute_reply.started": "2022-12-09T12:28:07.026444Z",
          "shell.execute_reply": "2022-12-09T12:28:30.761581Z"
        },
        "trusted": true,
        "id": "TQwWFhcC3aSP"
      },
      "execution_count": null,
      "outputs": []
    },
    {
      "cell_type": "markdown",
      "source": [
        "Printing the accuracy and confusion matrix for the model:"
      ],
      "metadata": {
        "id": "nf1BbHlC3yRV"
      }
    },
    {
      "cell_type": "code",
      "source": [
        "from sklearn.metrics import accuracy_score, confusion_matrix, classification_report\n",
        "ac = accuracy_score(y_test, y_pred)\n",
        "cm = confusion_matrix(y_test, y_pred)\n",
        "\n",
        "#Printing the accuracy:\n",
        "print(\"Accuracy is :\",ac)\n",
        "     "
      ],
      "metadata": {
        "execution": {
          "iopub.status.busy": "2022-12-09T12:28:30.765209Z",
          "iopub.execute_input": "2022-12-09T12:28:30.765630Z",
          "iopub.status.idle": "2022-12-09T12:28:30.776442Z",
          "shell.execute_reply.started": "2022-12-09T12:28:30.765588Z",
          "shell.execute_reply": "2022-12-09T12:28:30.775171Z"
        },
        "trusted": true,
        "id": "3oHfhzkC3aSQ",
        "outputId": "30845b16-ff1b-4498-d1a4-4a704afeb6cd"
      },
      "execution_count": null,
      "outputs": [
        {
          "name": "stdout",
          "text": "Accuracy is : 0.84544\n",
          "output_type": "stream"
        }
      ]
    },
    {
      "cell_type": "code",
      "source": [
        "matrix = metrics.confusion_matrix(y_test, y_pred)\n",
        "print(\"Confusion Matrix : \\n\",matrix)"
      ],
      "metadata": {
        "execution": {
          "iopub.status.busy": "2022-12-09T12:28:30.777646Z",
          "iopub.execute_input": "2022-12-09T12:28:30.778008Z",
          "iopub.status.idle": "2022-12-09T12:28:30.790567Z",
          "shell.execute_reply.started": "2022-12-09T12:28:30.777963Z",
          "shell.execute_reply": "2022-12-09T12:28:30.789291Z"
        },
        "trusted": true,
        "id": "SoTGOsat3aSR",
        "outputId": "843e9ea0-5439-4493-87dd-a64bbef6055c"
      },
      "execution_count": null,
      "outputs": [
        {
          "name": "stdout",
          "text": "Confusion Matrix : \n [[5190  967]\n [ 965 5378]]\n",
          "output_type": "stream"
        }
      ]
    }
  ]
}