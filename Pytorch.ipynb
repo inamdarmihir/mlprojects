{
  "cells": [
    {
      "cell_type": "code",
      "execution_count": 1,
      "metadata": {
        "id": "YG3k3gdlYJIJ"
      },
      "outputs": [],
      "source": [
        "# conda install pytorch torchvision cudatoolkit=10.1 -c pytorch"
      ]
    },
    {
      "cell_type": "code",
      "execution_count": 2,
      "metadata": {
        "id": "eXzPzbnqYJIM"
      },
      "outputs": [],
      "source": [
        "import torch\n",
        "import numpy as np \n",
        "import pandas as pd"
      ]
    },
    {
      "cell_type": "markdown",
      "metadata": {
        "id": "eB__n35qYJIN"
      },
      "source": [
        "## Intro Pytorch"
      ]
    },
    {
      "cell_type": "markdown",
      "metadata": {
        "id": "4ftqCOXXYJIP"
      },
      "source": [
        "<img src=\"https://www.researchgate.net/publication/335742056/figure/fig1/AS:801925004005376@1568205228035/Mode-i-tensors-of-a-3-way-tensor-For-a-3-way-tensor-X-R-n-1-n-2-n-3-it-has-3-types.png\">"
      ]
    },
    {
      "cell_type": "code",
      "execution_count": 3,
      "metadata": {
        "id": "Gl9fFX9rYJIQ",
        "outputId": "5dc552d5-9384-48f1-8b03-f1d1e92c03ca",
        "colab": {
          "base_uri": "https://localhost:8080/"
        }
      },
      "outputs": [
        {
          "output_type": "execute_result",
          "data": {
            "text/plain": [
              "tensor([[1., 1.],\n",
              "        [1., 1.]])"
            ]
          },
          "metadata": {},
          "execution_count": 3
        }
      ],
      "source": [
        "# Tensor of ones \n",
        "ones = torch.ones(2,2)\n",
        "ones"
      ]
    },
    {
      "cell_type": "code",
      "execution_count": 4,
      "metadata": {
        "id": "9Q2dPyHkYJIV",
        "outputId": "68ea9d49-034f-4a51-f10e-298f99ce2f29",
        "colab": {
          "base_uri": "https://localhost:8080/"
        }
      },
      "outputs": [
        {
          "output_type": "execute_result",
          "data": {
            "text/plain": [
              "tensor([[2.3954e-35, 0.0000e+00],\n",
              "        [3.7835e-44, 0.0000e+00]])"
            ]
          },
          "metadata": {},
          "execution_count": 4
        }
      ],
      "source": [
        "# 2x2 Random Tensor \n",
        "ran = torch.Tensor(2,2)\n",
        "ran"
      ]
    },
    {
      "cell_type": "code",
      "execution_count": 5,
      "metadata": {
        "id": "a2inf1cfYJIX",
        "outputId": "543fcc33-8c30-4de0-9746-c90a84e43104",
        "colab": {
          "base_uri": "https://localhost:8080/"
        }
      },
      "outputs": [
        {
          "output_type": "execute_result",
          "data": {
            "text/plain": [
              "torch.Tensor"
            ]
          },
          "metadata": {},
          "execution_count": 5
        }
      ],
      "source": [
        "type(ran)"
      ]
    },
    {
      "cell_type": "code",
      "execution_count": 6,
      "metadata": {
        "id": "XZB4ii_pYJIY",
        "outputId": "0efccf05-f9ef-4918-9381-dc92c79e97b9",
        "colab": {
          "base_uri": "https://localhost:8080/"
        }
      },
      "outputs": [
        {
          "output_type": "execute_result",
          "data": {
            "text/plain": [
              "tensor([[0.1566, 0.3389],\n",
              "        [0.0158, 0.0634]])"
            ]
          },
          "metadata": {},
          "execution_count": 6
        }
      ],
      "source": [
        "# Uniform values\n",
        "ran.uniform_(0,1)"
      ]
    },
    {
      "cell_type": "code",
      "execution_count": 7,
      "metadata": {
        "id": "3i76xOWxYJIZ",
        "outputId": "daf377f9-f8fd-450b-c134-44079c8c0765",
        "colab": {
          "base_uri": "https://localhost:8080/"
        }
      },
      "outputs": [
        {
          "output_type": "execute_result",
          "data": {
            "text/plain": [
              "tensor([[0.8147, 0.0131],\n",
              "        [0.4237, 0.0460]])"
            ]
          },
          "metadata": {},
          "execution_count": 7
        }
      ],
      "source": [
        "# Random tensor \n",
        "ran2 = torch.rand(2,2)\n",
        "ran2"
      ]
    },
    {
      "cell_type": "code",
      "execution_count": 8,
      "metadata": {
        "id": "VaruF7hIYJIa",
        "outputId": "0d0e4628-2caf-49c4-ec48-5f6fa971744a",
        "colab": {
          "base_uri": "https://localhost:8080/"
        }
      },
      "outputs": [
        {
          "output_type": "stream",
          "name": "stdout",
          "text": [
            "tensor([[0.1566, 0.3389],\n",
            "        [0.0158, 0.0634]]) \n",
            " tensor([[0.8147, 0.0131],\n",
            "        [0.4237, 0.0460]])\n"
          ]
        }
      ],
      "source": [
        "print(ran,\"\\n\",ran2)"
      ]
    },
    {
      "cell_type": "code",
      "execution_count": 9,
      "metadata": {
        "id": "S8-Ax3UeYJIb",
        "outputId": "71cab2e2-f459-4542-a071-cb07053b6c30",
        "colab": {
          "base_uri": "https://localhost:8080/"
        }
      },
      "outputs": [
        {
          "output_type": "execute_result",
          "data": {
            "text/plain": [
              "tensor([[0.9713, 0.3520],\n",
              "        [0.4395, 0.1094]])"
            ]
          },
          "metadata": {},
          "execution_count": 9
        }
      ],
      "source": [
        "# Operations\n",
        "result = ran + ran2\n",
        "result"
      ]
    },
    {
      "cell_type": "code",
      "execution_count": 10,
      "metadata": {
        "id": "w3PYioqTYJIc",
        "outputId": "11764c2e-6ee9-48bb-9351-00c3ca2f358c",
        "colab": {
          "base_uri": "https://localhost:8080/"
        }
      },
      "outputs": [
        {
          "output_type": "stream",
          "name": "stdout",
          "text": [
            "tensor([[0.1566, 0.3389],\n",
            "        [0.0158, 0.0634]]) \n",
            " tensor([[0.8147, 0.0131],\n",
            "        [0.4237, 0.0460]]) \n",
            " tensor([[0.9713, 0.3520],\n",
            "        [0.4395, 0.1094]])\n"
          ]
        }
      ],
      "source": [
        "print(ran,\"\\n\",ran2,\"\\n\",result)"
      ]
    },
    {
      "cell_type": "code",
      "execution_count": 11,
      "metadata": {
        "id": "fcmFNENIYJId",
        "outputId": "146d2052-4492-41a2-e10b-0aae20449f2c",
        "colab": {
          "base_uri": "https://localhost:8080/"
        }
      },
      "outputs": [
        {
          "output_type": "execute_result",
          "data": {
            "text/plain": [
              "torch.Size([2, 2])"
            ]
          },
          "metadata": {},
          "execution_count": 11
        }
      ],
      "source": [
        "# Shape of our tensor\n",
        "result.shape"
      ]
    },
    {
      "cell_type": "code",
      "execution_count": 12,
      "metadata": {
        "id": "ng_cNIesYJIe"
      },
      "outputs": [],
      "source": [
        "# ran*ran2"
      ]
    },
    {
      "cell_type": "code",
      "execution_count": 13,
      "metadata": {
        "id": "3UfxWn37YJIf",
        "outputId": "b058671b-6cd8-489e-d2ba-e3084d36e535",
        "colab": {
          "base_uri": "https://localhost:8080/"
        }
      },
      "outputs": [
        {
          "output_type": "execute_result",
          "data": {
            "text/plain": [
              "(tensor([[[-0.3589,  0.1557, -1.6087,  0.8608, -0.5241],\n",
              "          [-0.3037, -1.1629, -1.6207,  1.3119,  1.1970],\n",
              "          [-1.9743,  1.2918, -0.3931, -1.7565, -0.8164]],\n",
              " \n",
              "         [[ 0.5315,  1.5479, -0.7989, -1.3967, -0.9158],\n",
              "          [ 0.3535, -1.0042,  3.1394, -0.7485, -2.0199],\n",
              "          [ 1.1147, -1.6386, -0.2347, -1.6713,  0.8036]],\n",
              " \n",
              "         [[ 0.7882,  0.0758,  1.1582, -1.0831, -0.2097],\n",
              "          [ 0.2692,  1.6891,  0.8064, -1.0554, -0.9099],\n",
              "          [-1.0105,  0.1456,  0.9023,  0.0241,  1.6839]],\n",
              " \n",
              "         [[-1.5650,  0.0262, -1.2199,  0.4424,  1.4498],\n",
              "          [ 0.0629, -0.3991,  0.2718,  0.5569, -1.3448],\n",
              "          [-1.6084, -0.2578, -0.1593, -0.7341, -0.1006]],\n",
              " \n",
              "         [[ 0.5475, -1.7303,  1.8632,  2.0612,  1.3031],\n",
              "          [-1.2394, -0.5757, -1.6896,  0.1987, -1.6316],\n",
              "          [-0.0945, -0.6516,  1.2931,  0.0383, -0.7792]],\n",
              " \n",
              "         [[ 0.2284, -0.0180,  0.9021, -0.9723, -0.8063],\n",
              "          [ 1.3924,  1.5249,  0.5112, -0.2621, -1.0986],\n",
              "          [ 1.6164, -1.2769, -0.4583, -0.1802,  1.7761]],\n",
              " \n",
              "         [[ 0.5173,  1.1488,  1.3668, -1.6027, -0.8874],\n",
              "          [ 1.4853, -1.2980, -1.7493, -0.0510,  2.3979],\n",
              "          [-1.2150,  0.8883,  0.7533, -2.2894,  1.3521]],\n",
              " \n",
              "         [[ 0.1480,  1.2647, -1.9011,  0.8646, -0.9086],\n",
              "          [ 1.0600, -0.8340, -0.8637, -1.2992,  0.4107],\n",
              "          [-0.3138,  0.6480, -1.7264, -0.5099,  2.2967]]]),\n",
              " torch.Size([8, 3, 5]))"
            ]
          },
          "metadata": {},
          "execution_count": 13
        }
      ],
      "source": [
        "A = torch.randn((8,3,5)) #(number of tensors, rows in each tensor,col in each tensors)\n",
        "A, A.shape"
      ]
    },
    {
      "cell_type": "code",
      "execution_count": 14,
      "metadata": {
        "id": "bwyF-0reYJIg",
        "outputId": "ee6b194f-9358-40d5-d88f-58d881f98abb",
        "colab": {
          "base_uri": "https://localhost:8080/"
        }
      },
      "outputs": [
        {
          "output_type": "execute_result",
          "data": {
            "text/plain": [
              "tensor(2.2967)"
            ]
          },
          "metadata": {},
          "execution_count": 14
        }
      ],
      "source": [
        "A[7][2][4]"
      ]
    },
    {
      "cell_type": "code",
      "execution_count": 15,
      "metadata": {
        "id": "-pg-0zOMYJIh",
        "outputId": "7bd7aa84-6f7d-47d1-94f6-a06488ba165e",
        "colab": {
          "base_uri": "https://localhost:8080/"
        }
      },
      "outputs": [
        {
          "output_type": "execute_result",
          "data": {
            "text/plain": [
              "tensor(2.2967)"
            ]
          },
          "metadata": {},
          "execution_count": 15
        }
      ],
      "source": [
        "A[-1][-1][-1]"
      ]
    },
    {
      "cell_type": "code",
      "execution_count": 16,
      "metadata": {
        "id": "30uEWfV3YJIi",
        "outputId": "fdec013e-271a-40a6-e694-422ba9f5eeec",
        "colab": {
          "base_uri": "https://localhost:8080/"
        }
      },
      "outputs": [
        {
          "output_type": "execute_result",
          "data": {
            "text/plain": [
              "tensor([[0.9713, 0.3520],\n",
              "        [0.4395, 0.1094]])"
            ]
          },
          "metadata": {},
          "execution_count": 16
        }
      ],
      "source": [
        "result"
      ]
    },
    {
      "cell_type": "code",
      "execution_count": 17,
      "metadata": {
        "id": "sgCSCrfLYJIj",
        "outputId": "a54cb098-f3d2-440e-d7d1-6b34e58a0231",
        "colab": {
          "base_uri": "https://localhost:8080/"
        }
      },
      "outputs": [
        {
          "output_type": "stream",
          "name": "stdout",
          "text": [
            "tensor([[0.9713, 0.3520, 0.4395, 0.1094]])\n",
            "torch.Size([1, 4])\n"
          ]
        }
      ],
      "source": [
        "# Reshape\n",
        "reshaped = result.view(1,4)\n",
        "print(reshaped)\n",
        "print(reshaped.shape)"
      ]
    },
    {
      "cell_type": "code",
      "execution_count": 18,
      "metadata": {
        "id": "1XNXwIPWYJIm",
        "outputId": "a8d86b37-4195-45b5-80f4-a6f916803a94",
        "colab": {
          "base_uri": "https://localhost:8080/"
        }
      },
      "outputs": [
        {
          "output_type": "stream",
          "name": "stdout",
          "text": [
            "tensor([[0.9713],\n",
            "        [0.3520],\n",
            "        [0.4395],\n",
            "        [0.1094]])\n",
            "torch.Size([4, 1])\n"
          ]
        }
      ],
      "source": [
        "reshaped = result.view(4,1)\n",
        "print(reshaped)\n",
        "print(reshaped.shape)"
      ]
    },
    {
      "cell_type": "code",
      "execution_count": 19,
      "metadata": {
        "id": "u0H-SrBAYJIn",
        "outputId": "8c5c98e8-d136-4c66-a7bc-0aa750b05e40",
        "colab": {
          "base_uri": "https://localhost:8080/"
        }
      },
      "outputs": [
        {
          "output_type": "execute_result",
          "data": {
            "text/plain": [
              "tensor([[1., 2.],\n",
              "        [3., 4.]])"
            ]
          },
          "metadata": {},
          "execution_count": 19
        }
      ],
      "source": [
        "# Create tensor with my own values\n",
        "ten = torch.tensor([[1.0,2.],[3.0,4.0]])\n",
        "ten"
      ]
    },
    {
      "cell_type": "code",
      "execution_count": 20,
      "metadata": {
        "id": "OeXTNMThYJIo",
        "outputId": "5be3e2c0-6039-476f-e90d-c97fdfb28d91",
        "colab": {
          "base_uri": "https://localhost:8080/"
        }
      },
      "outputs": [
        {
          "output_type": "execute_result",
          "data": {
            "text/plain": [
              "tensor(3.)"
            ]
          },
          "metadata": {},
          "execution_count": 20
        }
      ],
      "source": [
        "ten[1][0]"
      ]
    },
    {
      "cell_type": "code",
      "execution_count": 21,
      "metadata": {
        "id": "mxTBmB9oYJIp",
        "outputId": "26d98702-7f4a-4567-c235-4bfeaa950e22",
        "colab": {
          "base_uri": "https://localhost:8080/"
        }
      },
      "outputs": [
        {
          "output_type": "execute_result",
          "data": {
            "text/plain": [
              " 1.0\n",
              " 2.0\n",
              " 3.0\n",
              " 4.0\n",
              "[torch.storage._TypedStorage(dtype=torch.float32, device=cpu) of size 4]"
            ]
          },
          "metadata": {},
          "execution_count": 21
        }
      ],
      "source": [
        "# storage\n",
        "ten.storage()"
      ]
    },
    {
      "cell_type": "code",
      "execution_count": 22,
      "metadata": {
        "id": "FWvbkl-sYJIq",
        "outputId": "599a9362-509a-4739-cceb-b74ba4c81603",
        "colab": {
          "base_uri": "https://localhost:8080/"
        }
      },
      "outputs": [
        {
          "output_type": "execute_result",
          "data": {
            "text/plain": [
              "tensor([[1., 2.],\n",
              "        [3., 4.]])"
            ]
          },
          "metadata": {},
          "execution_count": 22
        }
      ],
      "source": [
        "ten"
      ]
    },
    {
      "cell_type": "code",
      "execution_count": 23,
      "metadata": {
        "id": "GEBItlRvYJIq",
        "outputId": "8b22720d-072f-4873-a777-2ad4f82a8aa4",
        "colab": {
          "base_uri": "https://localhost:8080/"
        }
      },
      "outputs": [
        {
          "output_type": "execute_result",
          "data": {
            "text/plain": [
              "(2, 1)"
            ]
          },
          "metadata": {},
          "execution_count": 23
        }
      ],
      "source": [
        "# Stride\n",
        "ten.stride()"
      ]
    },
    {
      "cell_type": "code",
      "execution_count": 24,
      "metadata": {
        "id": "paoG7m0_YJIr"
      },
      "outputs": [],
      "source": [
        "x = torch.tensor([[1, 2, 3, 4, 5], [6, 7, 8, 9, 10]])\n"
      ]
    },
    {
      "cell_type": "code",
      "execution_count": 25,
      "metadata": {
        "id": "XZP0FkvSYJIs",
        "outputId": "6d8874f0-2aa5-4cd4-a1d4-5f743b8f6a70",
        "colab": {
          "base_uri": "https://localhost:8080/"
        }
      },
      "outputs": [
        {
          "output_type": "execute_result",
          "data": {
            "text/plain": [
              "tensor([[ 1,  2,  3,  4,  5],\n",
              "        [ 6,  7,  8,  9, 10]])"
            ]
          },
          "metadata": {},
          "execution_count": 25
        }
      ],
      "source": [
        "x"
      ]
    },
    {
      "cell_type": "code",
      "execution_count": 26,
      "metadata": {
        "id": "V5ShIE-_YJIs",
        "outputId": "55005dda-15e4-427e-e0c4-a1d34f68529d",
        "colab": {
          "base_uri": "https://localhost:8080/"
        }
      },
      "outputs": [
        {
          "output_type": "execute_result",
          "data": {
            "text/plain": [
              "(5, 1)"
            ]
          },
          "metadata": {},
          "execution_count": 26
        }
      ],
      "source": [
        "x.stride()"
      ]
    },
    {
      "cell_type": "code",
      "execution_count": 27,
      "metadata": {
        "id": "R3BkhHPAYJIt",
        "outputId": "706a398c-6663-45d2-ea31-137004a3bd9e",
        "colab": {
          "base_uri": "https://localhost:8080/"
        }
      },
      "outputs": [
        {
          "output_type": "execute_result",
          "data": {
            "text/plain": [
              "1"
            ]
          },
          "metadata": {},
          "execution_count": 27
        }
      ],
      "source": [
        "x.stride(1)"
      ]
    },
    {
      "cell_type": "code",
      "execution_count": 28,
      "metadata": {
        "id": "Kg8rTwtNYJIv",
        "outputId": "dc4d0e16-d25b-4430-bd53-a2bdafed3e44",
        "colab": {
          "base_uri": "https://localhost:8080/"
        }
      },
      "outputs": [
        {
          "output_type": "execute_result",
          "data": {
            "text/plain": [
              "5"
            ]
          },
          "metadata": {},
          "execution_count": 28
        }
      ],
      "source": [
        "x.stride(0)"
      ]
    },
    {
      "cell_type": "code",
      "execution_count": 29,
      "metadata": {
        "id": "q38Fsh_BYJIv",
        "outputId": "022bd0c5-3aa2-4582-870e-f274cec31669",
        "colab": {
          "base_uri": "https://localhost:8080/"
        }
      },
      "outputs": [
        {
          "output_type": "execute_result",
          "data": {
            "text/plain": [
              "tensor([[1., 2.],\n",
              "        [3., 4.]])"
            ]
          },
          "metadata": {},
          "execution_count": 29
        }
      ],
      "source": [
        "ten"
      ]
    },
    {
      "cell_type": "code",
      "execution_count": 30,
      "metadata": {
        "id": "mndAO7ypYJIw",
        "outputId": "a9303be9-eccb-421e-b739-25ed13ba85c8",
        "colab": {
          "base_uri": "https://localhost:8080/"
        }
      },
      "outputs": [
        {
          "output_type": "execute_result",
          "data": {
            "text/plain": [
              "tensor([[1., 3.],\n",
              "        [2., 4.]])"
            ]
          },
          "metadata": {},
          "execution_count": 30
        }
      ],
      "source": [
        "tent = ten.t()\n",
        "tent"
      ]
    },
    {
      "cell_type": "code",
      "execution_count": 31,
      "metadata": {
        "id": "IB8UqvuJYJIx",
        "outputId": "cbac0ddb-bc40-4856-c5d2-4f8012eadf1c",
        "colab": {
          "base_uri": "https://localhost:8080/"
        }
      },
      "outputs": [
        {
          "output_type": "execute_result",
          "data": {
            "text/plain": [
              "(tensor([[1., 3.],\n",
              "         [2., 4.]]), (1, 2))"
            ]
          },
          "metadata": {},
          "execution_count": 31
        }
      ],
      "source": [
        "# tent = ten.t()\n",
        "tent, tent.stride()"
      ]
    },
    {
      "cell_type": "code",
      "execution_count": 32,
      "metadata": {
        "id": "9HGOmUvbYJIx"
      },
      "outputs": [],
      "source": [
        "x = torch.tensor([[2,4,6,8,10,12], [12,14,16,18,20,22]])"
      ]
    },
    {
      "cell_type": "code",
      "execution_count": 33,
      "metadata": {
        "id": "pzL7vAuaYJIy",
        "outputId": "b69c88fc-bd79-4188-df57-8ece23976b2b",
        "colab": {
          "base_uri": "https://localhost:8080/"
        }
      },
      "outputs": [
        {
          "output_type": "execute_result",
          "data": {
            "text/plain": [
              "(6, 1)"
            ]
          },
          "metadata": {},
          "execution_count": 33
        }
      ],
      "source": [
        "x.stride()"
      ]
    },
    {
      "cell_type": "code",
      "execution_count": 34,
      "metadata": {
        "id": "Nmpt9Lx7YJIz",
        "outputId": "10d05b61-3ff1-46de-a721-89b024ed5f18",
        "colab": {
          "base_uri": "https://localhost:8080/"
        }
      },
      "outputs": [
        {
          "output_type": "execute_result",
          "data": {
            "text/plain": [
              "tensor([1, 2, 3, 4, 5])"
            ]
          },
          "metadata": {},
          "execution_count": 34
        }
      ],
      "source": [
        "# Add dimensions\n",
        "ten2 = torch.tensor([1,2,3,4,5])\n",
        "\n",
        "ten2"
      ]
    },
    {
      "cell_type": "code",
      "execution_count": 35,
      "metadata": {
        "id": "YkQkaP3dYJI0",
        "outputId": "e28c16d3-7dfb-4345-bb4c-0ac9198e14e6",
        "colab": {
          "base_uri": "https://localhost:8080/"
        }
      },
      "outputs": [
        {
          "output_type": "execute_result",
          "data": {
            "text/plain": [
              "tensor([[1, 2, 3, 4, 5]])"
            ]
          },
          "metadata": {},
          "execution_count": 35
        }
      ],
      "source": [
        "torch.unsqueeze(ten2, 0)"
      ]
    },
    {
      "cell_type": "code",
      "execution_count": 36,
      "metadata": {
        "id": "CCfS0HZeYJI0",
        "outputId": "bbb53c8c-cf4d-474e-ac53-03f5f98292a2",
        "colab": {
          "base_uri": "https://localhost:8080/"
        }
      },
      "outputs": [
        {
          "output_type": "execute_result",
          "data": {
            "text/plain": [
              "torch.Size([1, 5])"
            ]
          },
          "metadata": {},
          "execution_count": 36
        }
      ],
      "source": [
        "torch.unsqueeze(ten2, 0).shape"
      ]
    },
    {
      "cell_type": "code",
      "execution_count": 37,
      "metadata": {
        "id": "CKYIGwiGYJI1",
        "outputId": "bec327eb-031a-4903-d96d-6fc1aaf1fa1d",
        "colab": {
          "base_uri": "https://localhost:8080/"
        }
      },
      "outputs": [
        {
          "output_type": "execute_result",
          "data": {
            "text/plain": [
              "tensor([[1],\n",
              "        [2],\n",
              "        [3],\n",
              "        [4],\n",
              "        [5]])"
            ]
          },
          "metadata": {},
          "execution_count": 37
        }
      ],
      "source": [
        "torch.unsqueeze(ten2, 1)"
      ]
    },
    {
      "cell_type": "code",
      "execution_count": 38,
      "metadata": {
        "id": "na9tIls-YJI2",
        "outputId": "34b5991d-fc5c-40b6-9e88-c920dfd8faf2",
        "colab": {
          "base_uri": "https://localhost:8080/"
        }
      },
      "outputs": [
        {
          "output_type": "execute_result",
          "data": {
            "text/plain": [
              "torch.Size([5, 1])"
            ]
          },
          "metadata": {},
          "execution_count": 38
        }
      ],
      "source": [
        "torch.unsqueeze(ten2, 1).shape"
      ]
    },
    {
      "cell_type": "markdown",
      "metadata": {
        "id": "4iB3sF87YJI3"
      },
      "source": [
        "### Numpy"
      ]
    },
    {
      "cell_type": "code",
      "execution_count": 39,
      "metadata": {
        "id": "b7-GRzlQYJI4",
        "outputId": "6a5fef5a-d0fe-4b30-cd7b-b980dc5c0fb3",
        "colab": {
          "base_uri": "https://localhost:8080/"
        }
      },
      "outputs": [
        {
          "output_type": "execute_result",
          "data": {
            "text/plain": [
              "array([[ 1.64307306,  0.42907952],\n",
              "       [-1.15401985, -0.86035604]])"
            ]
          },
          "metadata": {},
          "execution_count": 39
        }
      ],
      "source": [
        "na = np.random.randn(2,2)\n",
        "na"
      ]
    },
    {
      "cell_type": "code",
      "execution_count": 40,
      "metadata": {
        "id": "VOaQrhnpYJI5",
        "outputId": "e7d0ae31-db51-40a3-dcf5-f7afce294422",
        "colab": {
          "base_uri": "https://localhost:8080/"
        }
      },
      "outputs": [
        {
          "output_type": "stream",
          "name": "stdout",
          "text": [
            "Type of 'na'  <class 'numpy.ndarray'>\n",
            "tensor([[ 1.6431,  0.4291],\n",
            "        [-1.1540, -0.8604]], dtype=torch.float64)\n",
            "\n",
            " <class 'torch.Tensor'>\n"
          ]
        }
      ],
      "source": [
        "print(\"Type of 'na' \", type(na))\n",
        "numpy_tensor = torch.from_numpy(na)\n",
        "print(numpy_tensor)\n",
        "print(\"\\n\", type(numpy_tensor))"
      ]
    },
    {
      "cell_type": "code",
      "execution_count": 41,
      "metadata": {
        "id": "MyNgEI3vYJI6"
      },
      "outputs": [],
      "source": [
        "new_tensor = torch.tensor([[1.0, 2.0],[3.0, 4.0]])\n"
      ]
    },
    {
      "cell_type": "code",
      "execution_count": 42,
      "metadata": {
        "id": "N28FMkcwYJI7",
        "outputId": "bbcc1dd3-b7ec-48c9-e747-274895f442b7",
        "colab": {
          "base_uri": "https://localhost:8080/"
        }
      },
      "outputs": [
        {
          "output_type": "execute_result",
          "data": {
            "text/plain": [
              "tensor([1.5000, 3.5000])"
            ]
          },
          "metadata": {},
          "execution_count": 42
        }
      ],
      "source": [
        "torch.mean(new_tensor, dim=1)"
      ]
    },
    {
      "cell_type": "code",
      "execution_count": 43,
      "metadata": {
        "id": "w7IK2Cn2YJI8",
        "outputId": "7744c8d0-845c-49a3-a135-b44eaefff06d",
        "colab": {
          "base_uri": "https://localhost:8080/"
        }
      },
      "outputs": [
        {
          "output_type": "execute_result",
          "data": {
            "text/plain": [
              "tensor([2., 3.])"
            ]
          },
          "metadata": {},
          "execution_count": 43
        }
      ],
      "source": [
        "torch.mean(new_tensor, dim=0)"
      ]
    },
    {
      "cell_type": "code",
      "execution_count": 44,
      "metadata": {
        "id": "Ua7aC94RYJI9",
        "outputId": "3830e32e-542c-468a-ff2e-4ecbbab5e158",
        "colab": {
          "base_uri": "https://localhost:8080/"
        }
      },
      "outputs": [
        {
          "output_type": "execute_result",
          "data": {
            "text/plain": [
              "tensor(2.5000)"
            ]
          },
          "metadata": {},
          "execution_count": 44
        }
      ],
      "source": [
        "torch.mean(new_tensor)"
      ]
    },
    {
      "cell_type": "code",
      "execution_count": 45,
      "metadata": {
        "id": "WyJKatvTYJI-",
        "outputId": "7c1d38a3-2222-4f1b-a18c-644e00b75483",
        "colab": {
          "base_uri": "https://localhost:8080/"
        }
      },
      "outputs": [
        {
          "output_type": "stream",
          "name": "stdout",
          "text": [
            "tensor([1.5000, 3.5000]) tensor([2., 3.]) tensor(2.5000)\n"
          ]
        }
      ],
      "source": [
        "print(torch.mean(new_tensor, dim=1),\n",
        "      torch.mean(new_tensor, dim=0),\n",
        "      torch.mean(new_tensor))"
      ]
    },
    {
      "cell_type": "code",
      "execution_count": 46,
      "metadata": {
        "id": "FTW9DGbaYJI_",
        "outputId": "f788031f-9ede-47b8-d928-1f8e6d29adb6",
        "colab": {
          "base_uri": "https://localhost:8080/"
        }
      },
      "outputs": [
        {
          "output_type": "stream",
          "name": "stdout",
          "text": [
            "tensor([[1],\n",
            "        [2],\n",
            "        [3],\n",
            "        [4]])\n",
            "tensor([[[1],\n",
            "         [2],\n",
            "         [3],\n",
            "         [4]]])\n"
          ]
        }
      ],
      "source": [
        "tensorX = torch.tensor([1, 2, 3, 4])\n",
        "print(torch.unsqueeze(tensorX, 1))\n",
        "tensorX = torch.tensor([[1],\n",
        "        [2],\n",
        "        [3],\n",
        "        [4]])\n",
        "print(torch.unsqueeze(tensorX,0))"
      ]
    },
    {
      "cell_type": "code",
      "execution_count": 47,
      "metadata": {
        "id": "yYBvqjVTYJJA",
        "outputId": "7e0bb458-f6da-4da1-bbd9-ee499f5d60f9",
        "colab": {
          "base_uri": "https://localhost:8080/"
        }
      },
      "outputs": [
        {
          "output_type": "execute_result",
          "data": {
            "text/plain": [
              "tensor([[ 1.6431,  0.4291],\n",
              "        [-1.1540, -0.8604]], dtype=torch.float64)"
            ]
          },
          "metadata": {},
          "execution_count": 47
        }
      ],
      "source": [
        "numpy_tensor"
      ]
    },
    {
      "cell_type": "code",
      "execution_count": 48,
      "metadata": {
        "id": "ght_ard_YJJB",
        "outputId": "5a8e203a-e7ac-43dd-8cc5-43f0c49985a6",
        "colab": {
          "base_uri": "https://localhost:8080/"
        }
      },
      "outputs": [
        {
          "output_type": "execute_result",
          "data": {
            "text/plain": [
              "tensor(0.0144, dtype=torch.float64)"
            ]
          },
          "metadata": {},
          "execution_count": 48
        }
      ],
      "source": [
        "# Mean\n",
        "torch.mean(numpy_tensor)"
      ]
    },
    {
      "cell_type": "code",
      "execution_count": 49,
      "metadata": {
        "id": "T0SOwJz6YJJC",
        "outputId": "50a6e1f3-9c75-4456-f329-d0e7b119484e",
        "colab": {
          "base_uri": "https://localhost:8080/"
        }
      },
      "outputs": [
        {
          "output_type": "stream",
          "name": "stdout",
          "text": [
            "tensor([ 0.2445, -0.2156], dtype=torch.float64)\n",
            "tensor([ 1.0361, -1.0072], dtype=torch.float64)\n"
          ]
        }
      ],
      "source": [
        "# Dimensions of or tensor\n",
        "\n",
        "print(torch.mean(numpy_tensor, dim=0))\n",
        "print(torch.mean(numpy_tensor, dim=1))"
      ]
    },
    {
      "cell_type": "code",
      "execution_count": 50,
      "metadata": {
        "id": "HdTXZa2TYJJD"
      },
      "outputs": [],
      "source": [
        "# save tensor\n",
        "torch.save(numpy_tensor, 'nt.t')"
      ]
    },
    {
      "cell_type": "code",
      "execution_count": 51,
      "metadata": {
        "id": "2vRC17yzYJJE",
        "outputId": "1c15abb0-0b83-4910-e25c-07c7e4279b59",
        "colab": {
          "base_uri": "https://localhost:8080/"
        }
      },
      "outputs": [
        {
          "data": {
            "text/plain": [
              "tensor([[ 1.6431,  0.4291],\n",
              "        [-1.1540, -0.8604]], dtype=torch.float64)"
            ]
          },
          "execution_count": 51,
          "metadata": {},
          "output_type": "execute_result"
        }
      ],
      "source": [
        "# load tensor\n",
        "tensor_loaded = torch.load('nt.t')\n",
        "tensor_loaded"
      ]
    },
    {
      "cell_type": "markdown",
      "metadata": {
        "id": "SnoJlLj_YJJF"
      },
      "source": [
        "### Datasets"
      ]
    },
    {
      "cell_type": "code",
      "execution_count": 100,
      "metadata": {
        "id": "v9jImd3eYJJG",
        "outputId": "6637436a-f326-4a02-e4f1-95731a676c35",
        "colab": {
          "base_uri": "https://localhost:8080/",
          "height": 0
        }
      },
      "outputs": [
        {
          "output_type": "stream",
          "name": "stdout",
          "text": [
            "Data Downloaded!\n"
          ]
        },
        {
          "output_type": "execute_result",
          "data": {
            "text/plain": [
              "   Unnamed: 0      ID               Name  Age  \\\n",
              "0           0  158023           L. Messi   31   \n",
              "1           1   20801  Cristiano Ronaldo   33   \n",
              "2           2  190871          Neymar Jr   26   \n",
              "3           3  193080             De Gea   27   \n",
              "4           4  192985       K. De Bruyne   27   \n",
              "\n",
              "                                            Photo Nationality  \\\n",
              "0  https://cdn.sofifa.org/players/4/19/158023.png   Argentina   \n",
              "1   https://cdn.sofifa.org/players/4/19/20801.png    Portugal   \n",
              "2  https://cdn.sofifa.org/players/4/19/190871.png      Brazil   \n",
              "3  https://cdn.sofifa.org/players/4/19/193080.png       Spain   \n",
              "4  https://cdn.sofifa.org/players/4/19/192985.png     Belgium   \n",
              "\n",
              "                                  Flag  Overall  Potential  \\\n",
              "0  https://cdn.sofifa.org/flags/52.png       94         94   \n",
              "1  https://cdn.sofifa.org/flags/38.png       94         94   \n",
              "2  https://cdn.sofifa.org/flags/54.png       92         93   \n",
              "3  https://cdn.sofifa.org/flags/45.png       91         93   \n",
              "4   https://cdn.sofifa.org/flags/7.png       91         92   \n",
              "\n",
              "                  Club  ... Composure Marking StandingTackle  SlidingTackle  \\\n",
              "0         FC Barcelona  ...      96.0    33.0           28.0           26.0   \n",
              "1             Juventus  ...      95.0    28.0           31.0           23.0   \n",
              "2  Paris Saint-Germain  ...      94.0    27.0           24.0           33.0   \n",
              "3    Manchester United  ...      68.0    15.0           21.0           13.0   \n",
              "4      Manchester City  ...      88.0    68.0           58.0           51.0   \n",
              "\n",
              "  GKDiving  GKHandling  GKKicking  GKPositioning GKReflexes Release Clause  \n",
              "0      6.0        11.0       15.0           14.0        8.0        €226.5M  \n",
              "1      7.0        11.0       15.0           14.0       11.0        €127.1M  \n",
              "2      9.0         9.0       15.0           15.0       11.0        €228.1M  \n",
              "3     90.0        85.0       87.0           88.0       94.0        €138.6M  \n",
              "4     15.0        13.0        5.0           10.0       13.0        €196.4M  \n",
              "\n",
              "[5 rows x 89 columns]"
            ],
            "text/html": [
              "\n",
              "  <div id=\"df-3490f681-9ec8-42e8-8bbc-fa639632a851\">\n",
              "    <div class=\"colab-df-container\">\n",
              "      <div>\n",
              "<style scoped>\n",
              "    .dataframe tbody tr th:only-of-type {\n",
              "        vertical-align: middle;\n",
              "    }\n",
              "\n",
              "    .dataframe tbody tr th {\n",
              "        vertical-align: top;\n",
              "    }\n",
              "\n",
              "    .dataframe thead th {\n",
              "        text-align: right;\n",
              "    }\n",
              "</style>\n",
              "<table border=\"1\" class=\"dataframe\">\n",
              "  <thead>\n",
              "    <tr style=\"text-align: right;\">\n",
              "      <th></th>\n",
              "      <th>Unnamed: 0</th>\n",
              "      <th>ID</th>\n",
              "      <th>Name</th>\n",
              "      <th>Age</th>\n",
              "      <th>Photo</th>\n",
              "      <th>Nationality</th>\n",
              "      <th>Flag</th>\n",
              "      <th>Overall</th>\n",
              "      <th>Potential</th>\n",
              "      <th>Club</th>\n",
              "      <th>...</th>\n",
              "      <th>Composure</th>\n",
              "      <th>Marking</th>\n",
              "      <th>StandingTackle</th>\n",
              "      <th>SlidingTackle</th>\n",
              "      <th>GKDiving</th>\n",
              "      <th>GKHandling</th>\n",
              "      <th>GKKicking</th>\n",
              "      <th>GKPositioning</th>\n",
              "      <th>GKReflexes</th>\n",
              "      <th>Release Clause</th>\n",
              "    </tr>\n",
              "  </thead>\n",
              "  <tbody>\n",
              "    <tr>\n",
              "      <th>0</th>\n",
              "      <td>0</td>\n",
              "      <td>158023</td>\n",
              "      <td>L. Messi</td>\n",
              "      <td>31</td>\n",
              "      <td>https://cdn.sofifa.org/players/4/19/158023.png</td>\n",
              "      <td>Argentina</td>\n",
              "      <td>https://cdn.sofifa.org/flags/52.png</td>\n",
              "      <td>94</td>\n",
              "      <td>94</td>\n",
              "      <td>FC Barcelona</td>\n",
              "      <td>...</td>\n",
              "      <td>96.0</td>\n",
              "      <td>33.0</td>\n",
              "      <td>28.0</td>\n",
              "      <td>26.0</td>\n",
              "      <td>6.0</td>\n",
              "      <td>11.0</td>\n",
              "      <td>15.0</td>\n",
              "      <td>14.0</td>\n",
              "      <td>8.0</td>\n",
              "      <td>€226.5M</td>\n",
              "    </tr>\n",
              "    <tr>\n",
              "      <th>1</th>\n",
              "      <td>1</td>\n",
              "      <td>20801</td>\n",
              "      <td>Cristiano Ronaldo</td>\n",
              "      <td>33</td>\n",
              "      <td>https://cdn.sofifa.org/players/4/19/20801.png</td>\n",
              "      <td>Portugal</td>\n",
              "      <td>https://cdn.sofifa.org/flags/38.png</td>\n",
              "      <td>94</td>\n",
              "      <td>94</td>\n",
              "      <td>Juventus</td>\n",
              "      <td>...</td>\n",
              "      <td>95.0</td>\n",
              "      <td>28.0</td>\n",
              "      <td>31.0</td>\n",
              "      <td>23.0</td>\n",
              "      <td>7.0</td>\n",
              "      <td>11.0</td>\n",
              "      <td>15.0</td>\n",
              "      <td>14.0</td>\n",
              "      <td>11.0</td>\n",
              "      <td>€127.1M</td>\n",
              "    </tr>\n",
              "    <tr>\n",
              "      <th>2</th>\n",
              "      <td>2</td>\n",
              "      <td>190871</td>\n",
              "      <td>Neymar Jr</td>\n",
              "      <td>26</td>\n",
              "      <td>https://cdn.sofifa.org/players/4/19/190871.png</td>\n",
              "      <td>Brazil</td>\n",
              "      <td>https://cdn.sofifa.org/flags/54.png</td>\n",
              "      <td>92</td>\n",
              "      <td>93</td>\n",
              "      <td>Paris Saint-Germain</td>\n",
              "      <td>...</td>\n",
              "      <td>94.0</td>\n",
              "      <td>27.0</td>\n",
              "      <td>24.0</td>\n",
              "      <td>33.0</td>\n",
              "      <td>9.0</td>\n",
              "      <td>9.0</td>\n",
              "      <td>15.0</td>\n",
              "      <td>15.0</td>\n",
              "      <td>11.0</td>\n",
              "      <td>€228.1M</td>\n",
              "    </tr>\n",
              "    <tr>\n",
              "      <th>3</th>\n",
              "      <td>3</td>\n",
              "      <td>193080</td>\n",
              "      <td>De Gea</td>\n",
              "      <td>27</td>\n",
              "      <td>https://cdn.sofifa.org/players/4/19/193080.png</td>\n",
              "      <td>Spain</td>\n",
              "      <td>https://cdn.sofifa.org/flags/45.png</td>\n",
              "      <td>91</td>\n",
              "      <td>93</td>\n",
              "      <td>Manchester United</td>\n",
              "      <td>...</td>\n",
              "      <td>68.0</td>\n",
              "      <td>15.0</td>\n",
              "      <td>21.0</td>\n",
              "      <td>13.0</td>\n",
              "      <td>90.0</td>\n",
              "      <td>85.0</td>\n",
              "      <td>87.0</td>\n",
              "      <td>88.0</td>\n",
              "      <td>94.0</td>\n",
              "      <td>€138.6M</td>\n",
              "    </tr>\n",
              "    <tr>\n",
              "      <th>4</th>\n",
              "      <td>4</td>\n",
              "      <td>192985</td>\n",
              "      <td>K. De Bruyne</td>\n",
              "      <td>27</td>\n",
              "      <td>https://cdn.sofifa.org/players/4/19/192985.png</td>\n",
              "      <td>Belgium</td>\n",
              "      <td>https://cdn.sofifa.org/flags/7.png</td>\n",
              "      <td>91</td>\n",
              "      <td>92</td>\n",
              "      <td>Manchester City</td>\n",
              "      <td>...</td>\n",
              "      <td>88.0</td>\n",
              "      <td>68.0</td>\n",
              "      <td>58.0</td>\n",
              "      <td>51.0</td>\n",
              "      <td>15.0</td>\n",
              "      <td>13.0</td>\n",
              "      <td>5.0</td>\n",
              "      <td>10.0</td>\n",
              "      <td>13.0</td>\n",
              "      <td>€196.4M</td>\n",
              "    </tr>\n",
              "  </tbody>\n",
              "</table>\n",
              "<p>5 rows × 89 columns</p>\n",
              "</div>\n",
              "      <button class=\"colab-df-convert\" onclick=\"convertToInteractive('df-3490f681-9ec8-42e8-8bbc-fa639632a851')\"\n",
              "              title=\"Convert this dataframe to an interactive table.\"\n",
              "              style=\"display:none;\">\n",
              "        \n",
              "  <svg xmlns=\"http://www.w3.org/2000/svg\" height=\"24px\"viewBox=\"0 0 24 24\"\n",
              "       width=\"24px\">\n",
              "    <path d=\"M0 0h24v24H0V0z\" fill=\"none\"/>\n",
              "    <path d=\"M18.56 5.44l.94 2.06.94-2.06 2.06-.94-2.06-.94-.94-2.06-.94 2.06-2.06.94zm-11 1L8.5 8.5l.94-2.06 2.06-.94-2.06-.94L8.5 2.5l-.94 2.06-2.06.94zm10 10l.94 2.06.94-2.06 2.06-.94-2.06-.94-.94-2.06-.94 2.06-2.06.94z\"/><path d=\"M17.41 7.96l-1.37-1.37c-.4-.4-.92-.59-1.43-.59-.52 0-1.04.2-1.43.59L10.3 9.45l-7.72 7.72c-.78.78-.78 2.05 0 2.83L4 21.41c.39.39.9.59 1.41.59.51 0 1.02-.2 1.41-.59l7.78-7.78 2.81-2.81c.8-.78.8-2.07 0-2.86zM5.41 20L4 18.59l7.72-7.72 1.47 1.35L5.41 20z\"/>\n",
              "  </svg>\n",
              "      </button>\n",
              "      \n",
              "  <style>\n",
              "    .colab-df-container {\n",
              "      display:flex;\n",
              "      flex-wrap:wrap;\n",
              "      gap: 12px;\n",
              "    }\n",
              "\n",
              "    .colab-df-convert {\n",
              "      background-color: #E8F0FE;\n",
              "      border: none;\n",
              "      border-radius: 50%;\n",
              "      cursor: pointer;\n",
              "      display: none;\n",
              "      fill: #1967D2;\n",
              "      height: 32px;\n",
              "      padding: 0 0 0 0;\n",
              "      width: 32px;\n",
              "    }\n",
              "\n",
              "    .colab-df-convert:hover {\n",
              "      background-color: #E2EBFA;\n",
              "      box-shadow: 0px 1px 2px rgba(60, 64, 67, 0.3), 0px 1px 3px 1px rgba(60, 64, 67, 0.15);\n",
              "      fill: #174EA6;\n",
              "    }\n",
              "\n",
              "    [theme=dark] .colab-df-convert {\n",
              "      background-color: #3B4455;\n",
              "      fill: #D2E3FC;\n",
              "    }\n",
              "\n",
              "    [theme=dark] .colab-df-convert:hover {\n",
              "      background-color: #434B5C;\n",
              "      box-shadow: 0px 1px 3px 1px rgba(0, 0, 0, 0.15);\n",
              "      filter: drop-shadow(0px 1px 2px rgba(0, 0, 0, 0.3));\n",
              "      fill: #FFFFFF;\n",
              "    }\n",
              "  </style>\n",
              "\n",
              "      <script>\n",
              "        const buttonEl =\n",
              "          document.querySelector('#df-3490f681-9ec8-42e8-8bbc-fa639632a851 button.colab-df-convert');\n",
              "        buttonEl.style.display =\n",
              "          google.colab.kernel.accessAllowed ? 'block' : 'none';\n",
              "\n",
              "        async function convertToInteractive(key) {\n",
              "          const element = document.querySelector('#df-3490f681-9ec8-42e8-8bbc-fa639632a851');\n",
              "          const dataTable =\n",
              "            await google.colab.kernel.invokeFunction('convertToInteractive',\n",
              "                                                     [key], {});\n",
              "          if (!dataTable) return;\n",
              "\n",
              "          const docLinkHtml = 'Like what you see? Visit the ' +\n",
              "            '<a target=\"_blank\" href=https://colab.research.google.com/notebooks/data_table.ipynb>data table notebook</a>'\n",
              "            + ' to learn more about interactive tables.';\n",
              "          element.innerHTML = '';\n",
              "          dataTable['output_type'] = 'display_data';\n",
              "          await google.colab.output.renderOutput(dataTable, element);\n",
              "          const docLink = document.createElement('div');\n",
              "          docLink.innerHTML = docLinkHtml;\n",
              "          element.appendChild(docLink);\n",
              "        }\n",
              "      </script>\n",
              "    </div>\n",
              "  </div>\n",
              "  "
            ]
          },
          "metadata": {},
          "execution_count": 100
        }
      ],
      "source": [
        "## football dataset\n",
        "url = 'https://raw.githubusercontent.com/amanthedorkknight/fifa18-all-player-statistics/master/2019/data.csv'\n",
        "\n",
        "df = pd.read_csv(url)\n",
        "print(\"Data Downloaded!\")\n",
        "df.head()"
      ]
    },
    {
      "cell_type": "code",
      "execution_count": 101,
      "metadata": {
        "id": "ylsbgPt5YJJH",
        "outputId": "4675a54d-b23b-4bd9-9912-b84401c717bc",
        "colab": {
          "base_uri": "https://localhost:8080/"
        }
      },
      "outputs": [
        {
          "output_type": "execute_result",
          "data": {
            "text/plain": [
              "Index(['Unnamed: 0', 'ID', 'Name', 'Age', 'Photo', 'Nationality', 'Flag',\n",
              "       'Overall', 'Potential', 'Club', 'Club Logo', 'Value', 'Wage', 'Special',\n",
              "       'Preferred Foot', 'International Reputation', 'Weak Foot',\n",
              "       'Skill Moves', 'Work Rate', 'Body Type', 'Real Face', 'Position',\n",
              "       'Jersey Number', 'Joined', 'Loaned From', 'Contract Valid Until',\n",
              "       'Height', 'Weight', 'LS', 'ST', 'RS', 'LW', 'LF', 'CF', 'RF', 'RW',\n",
              "       'LAM', 'CAM', 'RAM', 'LM', 'LCM', 'CM', 'RCM', 'RM', 'LWB', 'LDM',\n",
              "       'CDM', 'RDM', 'RWB', 'LB', 'LCB', 'CB', 'RCB', 'RB', 'Crossing',\n",
              "       'Finishing', 'HeadingAccuracy', 'ShortPassing', 'Volleys', 'Dribbling',\n",
              "       'Curve', 'FKAccuracy', 'LongPassing', 'BallControl', 'Acceleration',\n",
              "       'SprintSpeed', 'Agility', 'Reactions', 'Balance', 'ShotPower',\n",
              "       'Jumping', 'Stamina', 'Strength', 'LongShots', 'Aggression',\n",
              "       'Interceptions', 'Positioning', 'Vision', 'Penalties', 'Composure',\n",
              "       'Marking', 'StandingTackle', 'SlidingTackle', 'GKDiving', 'GKHandling',\n",
              "       'GKKicking', 'GKPositioning', 'GKReflexes', 'Release Clause'],\n",
              "      dtype='object')"
            ]
          },
          "metadata": {},
          "execution_count": 101
        }
      ],
      "source": [
        "df.columns"
      ]
    },
    {
      "cell_type": "code",
      "execution_count": 102,
      "metadata": {
        "id": "8pRqgM4IYJJI",
        "outputId": "b016aa5a-8633-4875-e162-b8584ed08784",
        "colab": {
          "base_uri": "https://localhost:8080/"
        }
      },
      "outputs": [
        {
          "output_type": "stream",
          "name": "stdout",
          "text": [
            "<class 'pandas.core.frame.DataFrame'>\n",
            "RangeIndex: 18207 entries, 0 to 18206\n",
            "Data columns (total 89 columns):\n",
            " #   Column                    Non-Null Count  Dtype  \n",
            "---  ------                    --------------  -----  \n",
            " 0   Unnamed: 0                18207 non-null  int64  \n",
            " 1   ID                        18207 non-null  int64  \n",
            " 2   Name                      18207 non-null  object \n",
            " 3   Age                       18207 non-null  int64  \n",
            " 4   Photo                     18207 non-null  object \n",
            " 5   Nationality               18207 non-null  object \n",
            " 6   Flag                      18207 non-null  object \n",
            " 7   Overall                   18207 non-null  int64  \n",
            " 8   Potential                 18207 non-null  int64  \n",
            " 9   Club                      17966 non-null  object \n",
            " 10  Club Logo                 18207 non-null  object \n",
            " 11  Value                     18207 non-null  object \n",
            " 12  Wage                      18207 non-null  object \n",
            " 13  Special                   18207 non-null  int64  \n",
            " 14  Preferred Foot            18159 non-null  object \n",
            " 15  International Reputation  18159 non-null  float64\n",
            " 16  Weak Foot                 18159 non-null  float64\n",
            " 17  Skill Moves               18159 non-null  float64\n",
            " 18  Work Rate                 18159 non-null  object \n",
            " 19  Body Type                 18159 non-null  object \n",
            " 20  Real Face                 18159 non-null  object \n",
            " 21  Position                  18147 non-null  object \n",
            " 22  Jersey Number             18147 non-null  float64\n",
            " 23  Joined                    16654 non-null  object \n",
            " 24  Loaned From               1264 non-null   object \n",
            " 25  Contract Valid Until      17918 non-null  object \n",
            " 26  Height                    18159 non-null  object \n",
            " 27  Weight                    18159 non-null  object \n",
            " 28  LS                        16122 non-null  object \n",
            " 29  ST                        16122 non-null  object \n",
            " 30  RS                        16122 non-null  object \n",
            " 31  LW                        16122 non-null  object \n",
            " 32  LF                        16122 non-null  object \n",
            " 33  CF                        16122 non-null  object \n",
            " 34  RF                        16122 non-null  object \n",
            " 35  RW                        16122 non-null  object \n",
            " 36  LAM                       16122 non-null  object \n",
            " 37  CAM                       16122 non-null  object \n",
            " 38  RAM                       16122 non-null  object \n",
            " 39  LM                        16122 non-null  object \n",
            " 40  LCM                       16122 non-null  object \n",
            " 41  CM                        16122 non-null  object \n",
            " 42  RCM                       16122 non-null  object \n",
            " 43  RM                        16122 non-null  object \n",
            " 44  LWB                       16122 non-null  object \n",
            " 45  LDM                       16122 non-null  object \n",
            " 46  CDM                       16122 non-null  object \n",
            " 47  RDM                       16122 non-null  object \n",
            " 48  RWB                       16122 non-null  object \n",
            " 49  LB                        16122 non-null  object \n",
            " 50  LCB                       16122 non-null  object \n",
            " 51  CB                        16122 non-null  object \n",
            " 52  RCB                       16122 non-null  object \n",
            " 53  RB                        16122 non-null  object \n",
            " 54  Crossing                  18159 non-null  float64\n",
            " 55  Finishing                 18159 non-null  float64\n",
            " 56  HeadingAccuracy           18159 non-null  float64\n",
            " 57  ShortPassing              18159 non-null  float64\n",
            " 58  Volleys                   18159 non-null  float64\n",
            " 59  Dribbling                 18159 non-null  float64\n",
            " 60  Curve                     18159 non-null  float64\n",
            " 61  FKAccuracy                18159 non-null  float64\n",
            " 62  LongPassing               18159 non-null  float64\n",
            " 63  BallControl               18159 non-null  float64\n",
            " 64  Acceleration              18159 non-null  float64\n",
            " 65  SprintSpeed               18159 non-null  float64\n",
            " 66  Agility                   18159 non-null  float64\n",
            " 67  Reactions                 18159 non-null  float64\n",
            " 68  Balance                   18159 non-null  float64\n",
            " 69  ShotPower                 18159 non-null  float64\n",
            " 70  Jumping                   18159 non-null  float64\n",
            " 71  Stamina                   18159 non-null  float64\n",
            " 72  Strength                  18159 non-null  float64\n",
            " 73  LongShots                 18159 non-null  float64\n",
            " 74  Aggression                18159 non-null  float64\n",
            " 75  Interceptions             18159 non-null  float64\n",
            " 76  Positioning               18159 non-null  float64\n",
            " 77  Vision                    18159 non-null  float64\n",
            " 78  Penalties                 18159 non-null  float64\n",
            " 79  Composure                 18159 non-null  float64\n",
            " 80  Marking                   18159 non-null  float64\n",
            " 81  StandingTackle            18159 non-null  float64\n",
            " 82  SlidingTackle             18159 non-null  float64\n",
            " 83  GKDiving                  18159 non-null  float64\n",
            " 84  GKHandling                18159 non-null  float64\n",
            " 85  GKKicking                 18159 non-null  float64\n",
            " 86  GKPositioning             18159 non-null  float64\n",
            " 87  GKReflexes                18159 non-null  float64\n",
            " 88  Release Clause            16643 non-null  object \n",
            "dtypes: float64(38), int64(6), object(45)\n",
            "memory usage: 12.4+ MB\n"
          ]
        }
      ],
      "source": [
        "df.info()"
      ]
    },
    {
      "cell_type": "code",
      "execution_count": 103,
      "metadata": {
        "id": "ODF1VsFnYJJJ",
        "outputId": "d09c8fcd-b016-4dba-cc61-0153fc8536ec",
        "colab": {
          "base_uri": "https://localhost:8080/"
        }
      },
      "outputs": [
        {
          "output_type": "execute_result",
          "data": {
            "text/plain": [
              "Index(['Unnamed: 0', 'ID', 'Name', 'Age', 'Photo', 'Nationality', 'Flag',\n",
              "       'Overall', 'Potential', 'Club', 'Club Logo', 'Value', 'Wage', 'Special',\n",
              "       'Preferred Foot', 'International Reputation', 'Weak Foot',\n",
              "       'Skill Moves', 'Work Rate', 'Body Type', 'Real Face', 'Position',\n",
              "       'Jersey Number', 'Joined', 'Loaned From', 'Contract Valid Until',\n",
              "       'Height', 'Weight', 'LS', 'ST', 'RS', 'LW', 'LF', 'CF', 'RF', 'RW',\n",
              "       'LAM', 'CAM', 'RAM', 'LM', 'LCM', 'CM', 'RCM', 'RM', 'LWB', 'LDM',\n",
              "       'CDM', 'RDM', 'RWB', 'LB', 'LCB', 'CB', 'RCB', 'RB', 'Crossing',\n",
              "       'Finishing', 'HeadingAccuracy', 'ShortPassing', 'Volleys', 'Dribbling',\n",
              "       'Curve', 'FKAccuracy', 'LongPassing', 'BallControl', 'Acceleration',\n",
              "       'SprintSpeed', 'Agility', 'Reactions', 'Balance', 'ShotPower',\n",
              "       'Jumping', 'Stamina', 'Strength', 'LongShots', 'Aggression',\n",
              "       'Interceptions', 'Positioning', 'Vision', 'Penalties', 'Composure',\n",
              "       'Marking', 'StandingTackle', 'SlidingTackle', 'GKDiving', 'GKHandling',\n",
              "       'GKKicking', 'GKPositioning', 'GKReflexes', 'Release Clause'],\n",
              "      dtype='object')"
            ]
          },
          "metadata": {},
          "execution_count": 103
        }
      ],
      "source": [
        "df.keys()"
      ]
    },
    {
      "cell_type": "code",
      "execution_count": 104,
      "metadata": {
        "id": "zNrov-B6YJJK",
        "outputId": "ec629c09-8571-4b8a-d5fc-d69d497600bf",
        "colab": {
          "base_uri": "https://localhost:8080/"
        }
      },
      "outputs": [
        {
          "output_type": "execute_result",
          "data": {
            "text/plain": [
              "False    18207\n",
              "Name: Overall, dtype: int64"
            ]
          },
          "metadata": {},
          "execution_count": 104
        }
      ],
      "source": [
        "df.Overall.isnull().value_counts()"
      ]
    },
    {
      "cell_type": "code",
      "execution_count": 105,
      "metadata": {
        "id": "ztpSfOvGYJJL",
        "outputId": "cc2f5fd2-8566-4ee8-89d4-908b8ce88e3b",
        "colab": {
          "base_uri": "https://localhost:8080/"
        }
      },
      "outputs": [
        {
          "output_type": "execute_result",
          "data": {
            "text/plain": [
              "False    18207\n",
              "Name: Age, dtype: int64"
            ]
          },
          "metadata": {},
          "execution_count": 105
        }
      ],
      "source": [
        "df.Age.isnull().value_counts()"
      ]
    },
    {
      "cell_type": "code",
      "execution_count": 106,
      "metadata": {
        "id": "NmkfIPkXYJJL",
        "outputId": "33783390-0e15-4e3d-f136-ab89babd110f",
        "colab": {
          "base_uri": "https://localhost:8080/"
        }
      },
      "outputs": [
        {
          "output_type": "execute_result",
          "data": {
            "text/plain": [
              "False    18159\n",
              "True        48\n",
              "Name: International Reputation, dtype: int64"
            ]
          },
          "metadata": {},
          "execution_count": 106
        }
      ],
      "source": [
        "df['International Reputation'].isnull().value_counts()"
      ]
    },
    {
      "cell_type": "code",
      "execution_count": 107,
      "metadata": {
        "id": "j_UUOqDAYJJM",
        "outputId": "84749dd8-df2b-4e79-ecd1-0f6aa20dc2e1",
        "colab": {
          "base_uri": "https://localhost:8080/"
        }
      },
      "outputs": [
        {
          "output_type": "execute_result",
          "data": {
            "text/plain": [
              "False    18159\n",
              "True        48\n",
              "Name: Weak Foot, dtype: int64"
            ]
          },
          "metadata": {},
          "execution_count": 107
        }
      ],
      "source": [
        "df['Weak Foot'].isnull().value_counts()"
      ]
    },
    {
      "cell_type": "code",
      "execution_count": 108,
      "metadata": {
        "id": "o_si3joCYJJN",
        "outputId": "41919d11-195a-4b2c-bdd2-bd96730f9333",
        "colab": {
          "base_uri": "https://localhost:8080/"
        }
      },
      "outputs": [
        {
          "output_type": "execute_result",
          "data": {
            "text/plain": [
              "False    18159\n",
              "True        48\n",
              "Name: Skill Moves, dtype: int64"
            ]
          },
          "metadata": {},
          "execution_count": 108
        }
      ],
      "source": [
        "df['Skill Moves'].isnull().value_counts()"
      ]
    },
    {
      "cell_type": "code",
      "execution_count": 109,
      "metadata": {
        "id": "3kMzxP54YJJO",
        "outputId": "218f56b9-7593-41d9-96f3-98e1dee2c9a2",
        "colab": {
          "base_uri": "https://localhost:8080/"
        }
      },
      "outputs": [
        {
          "output_type": "execute_result",
          "data": {
            "text/plain": [
              "13236   NaN\n",
              "13237   NaN\n",
              "13238   NaN\n",
              "13239   NaN\n",
              "13240   NaN\n",
              "13241   NaN\n",
              "13242   NaN\n",
              "13243   NaN\n",
              "13244   NaN\n",
              "13245   NaN\n",
              "13246   NaN\n",
              "13247   NaN\n",
              "13248   NaN\n",
              "13249   NaN\n",
              "13250   NaN\n",
              "13251   NaN\n",
              "13252   NaN\n",
              "13253   NaN\n",
              "13254   NaN\n",
              "13255   NaN\n",
              "13256   NaN\n",
              "13257   NaN\n",
              "13258   NaN\n",
              "13259   NaN\n",
              "13260   NaN\n",
              "13261   NaN\n",
              "13262   NaN\n",
              "13263   NaN\n",
              "13264   NaN\n",
              "13265   NaN\n",
              "13266   NaN\n",
              "13267   NaN\n",
              "13268   NaN\n",
              "13269   NaN\n",
              "13270   NaN\n",
              "13271   NaN\n",
              "13272   NaN\n",
              "13273   NaN\n",
              "13274   NaN\n",
              "13275   NaN\n",
              "13276   NaN\n",
              "13277   NaN\n",
              "13278   NaN\n",
              "13279   NaN\n",
              "13280   NaN\n",
              "13281   NaN\n",
              "13282   NaN\n",
              "13283   NaN\n",
              "Name: Skill Moves, dtype: float64"
            ]
          },
          "metadata": {},
          "execution_count": 109
        }
      ],
      "source": [
        "df[df['Skill Moves'].isnull()==True]['Skill Moves']"
      ]
    },
    {
      "cell_type": "code",
      "execution_count": 109,
      "metadata": {
        "id": "oLL2uzQsYJJP"
      },
      "outputs": [],
      "source": []
    },
    {
      "cell_type": "code",
      "execution_count": 110,
      "metadata": {
        "id": "2NU4sr5AYJJQ"
      },
      "outputs": [],
      "source": [
        "subset = df[['Overall', 'Age','International Reputation', 'Weak Foot', 'Skill Moves' ]].dropna(axis=0, how='any')\n",
        "\n"
      ]
    },
    {
      "cell_type": "code",
      "execution_count": 111,
      "metadata": {
        "id": "COlGB1DrYJJR",
        "outputId": "1e548b44-a96d-46e0-c5e2-1478a7d279bd",
        "colab": {
          "base_uri": "https://localhost:8080/",
          "height": 0
        }
      },
      "outputs": [
        {
          "output_type": "execute_result",
          "data": {
            "text/plain": [
              "       Unnamed: 0      ID                Name  Age  \\\n",
              "18202       18202  238813        J. Lundstram   19   \n",
              "18203       18203  243165  N. Christoffersson   19   \n",
              "18204       18204  241638           B. Worman   16   \n",
              "18205       18205  246268      D. Walker-Rice   17   \n",
              "18206       18206  246269           G. Nugent   16   \n",
              "\n",
              "                                                Photo Nationality  \\\n",
              "18202  https://cdn.sofifa.org/players/4/19/238813.png     England   \n",
              "18203  https://cdn.sofifa.org/players/4/19/243165.png      Sweden   \n",
              "18204  https://cdn.sofifa.org/players/4/19/241638.png     England   \n",
              "18205  https://cdn.sofifa.org/players/4/19/246268.png     England   \n",
              "18206  https://cdn.sofifa.org/players/4/19/246269.png     England   \n",
              "\n",
              "                                      Flag  Overall  Potential  \\\n",
              "18202  https://cdn.sofifa.org/flags/14.png       47         65   \n",
              "18203  https://cdn.sofifa.org/flags/46.png       47         63   \n",
              "18204  https://cdn.sofifa.org/flags/14.png       47         67   \n",
              "18205  https://cdn.sofifa.org/flags/14.png       47         66   \n",
              "18206  https://cdn.sofifa.org/flags/14.png       46         66   \n",
              "\n",
              "                   Club  ... Composure Marking StandingTackle  SlidingTackle  \\\n",
              "18202   Crewe Alexandra  ...      45.0    40.0           48.0           47.0   \n",
              "18203    Trelleborgs FF  ...      42.0    22.0           15.0           19.0   \n",
              "18204  Cambridge United  ...      41.0    32.0           13.0           11.0   \n",
              "18205   Tranmere Rovers  ...      46.0    20.0           25.0           27.0   \n",
              "18206   Tranmere Rovers  ...      43.0    40.0           43.0           50.0   \n",
              "\n",
              "      GKDiving  GKHandling  GKKicking  GKPositioning GKReflexes Release Clause  \n",
              "18202     10.0        13.0        7.0            8.0        9.0          €143K  \n",
              "18203     10.0         9.0        9.0            5.0       12.0          €113K  \n",
              "18204      6.0         5.0       10.0            6.0       13.0          €165K  \n",
              "18205     14.0         6.0       14.0            8.0        9.0          €143K  \n",
              "18206     10.0        15.0        9.0           12.0        9.0          €165K  \n",
              "\n",
              "[5 rows x 89 columns]"
            ],
            "text/html": [
              "\n",
              "  <div id=\"df-3f8802d3-26b8-47f9-b47b-422815f187c8\">\n",
              "    <div class=\"colab-df-container\">\n",
              "      <div>\n",
              "<style scoped>\n",
              "    .dataframe tbody tr th:only-of-type {\n",
              "        vertical-align: middle;\n",
              "    }\n",
              "\n",
              "    .dataframe tbody tr th {\n",
              "        vertical-align: top;\n",
              "    }\n",
              "\n",
              "    .dataframe thead th {\n",
              "        text-align: right;\n",
              "    }\n",
              "</style>\n",
              "<table border=\"1\" class=\"dataframe\">\n",
              "  <thead>\n",
              "    <tr style=\"text-align: right;\">\n",
              "      <th></th>\n",
              "      <th>Unnamed: 0</th>\n",
              "      <th>ID</th>\n",
              "      <th>Name</th>\n",
              "      <th>Age</th>\n",
              "      <th>Photo</th>\n",
              "      <th>Nationality</th>\n",
              "      <th>Flag</th>\n",
              "      <th>Overall</th>\n",
              "      <th>Potential</th>\n",
              "      <th>Club</th>\n",
              "      <th>...</th>\n",
              "      <th>Composure</th>\n",
              "      <th>Marking</th>\n",
              "      <th>StandingTackle</th>\n",
              "      <th>SlidingTackle</th>\n",
              "      <th>GKDiving</th>\n",
              "      <th>GKHandling</th>\n",
              "      <th>GKKicking</th>\n",
              "      <th>GKPositioning</th>\n",
              "      <th>GKReflexes</th>\n",
              "      <th>Release Clause</th>\n",
              "    </tr>\n",
              "  </thead>\n",
              "  <tbody>\n",
              "    <tr>\n",
              "      <th>18202</th>\n",
              "      <td>18202</td>\n",
              "      <td>238813</td>\n",
              "      <td>J. Lundstram</td>\n",
              "      <td>19</td>\n",
              "      <td>https://cdn.sofifa.org/players/4/19/238813.png</td>\n",
              "      <td>England</td>\n",
              "      <td>https://cdn.sofifa.org/flags/14.png</td>\n",
              "      <td>47</td>\n",
              "      <td>65</td>\n",
              "      <td>Crewe Alexandra</td>\n",
              "      <td>...</td>\n",
              "      <td>45.0</td>\n",
              "      <td>40.0</td>\n",
              "      <td>48.0</td>\n",
              "      <td>47.0</td>\n",
              "      <td>10.0</td>\n",
              "      <td>13.0</td>\n",
              "      <td>7.0</td>\n",
              "      <td>8.0</td>\n",
              "      <td>9.0</td>\n",
              "      <td>€143K</td>\n",
              "    </tr>\n",
              "    <tr>\n",
              "      <th>18203</th>\n",
              "      <td>18203</td>\n",
              "      <td>243165</td>\n",
              "      <td>N. Christoffersson</td>\n",
              "      <td>19</td>\n",
              "      <td>https://cdn.sofifa.org/players/4/19/243165.png</td>\n",
              "      <td>Sweden</td>\n",
              "      <td>https://cdn.sofifa.org/flags/46.png</td>\n",
              "      <td>47</td>\n",
              "      <td>63</td>\n",
              "      <td>Trelleborgs FF</td>\n",
              "      <td>...</td>\n",
              "      <td>42.0</td>\n",
              "      <td>22.0</td>\n",
              "      <td>15.0</td>\n",
              "      <td>19.0</td>\n",
              "      <td>10.0</td>\n",
              "      <td>9.0</td>\n",
              "      <td>9.0</td>\n",
              "      <td>5.0</td>\n",
              "      <td>12.0</td>\n",
              "      <td>€113K</td>\n",
              "    </tr>\n",
              "    <tr>\n",
              "      <th>18204</th>\n",
              "      <td>18204</td>\n",
              "      <td>241638</td>\n",
              "      <td>B. Worman</td>\n",
              "      <td>16</td>\n",
              "      <td>https://cdn.sofifa.org/players/4/19/241638.png</td>\n",
              "      <td>England</td>\n",
              "      <td>https://cdn.sofifa.org/flags/14.png</td>\n",
              "      <td>47</td>\n",
              "      <td>67</td>\n",
              "      <td>Cambridge United</td>\n",
              "      <td>...</td>\n",
              "      <td>41.0</td>\n",
              "      <td>32.0</td>\n",
              "      <td>13.0</td>\n",
              "      <td>11.0</td>\n",
              "      <td>6.0</td>\n",
              "      <td>5.0</td>\n",
              "      <td>10.0</td>\n",
              "      <td>6.0</td>\n",
              "      <td>13.0</td>\n",
              "      <td>€165K</td>\n",
              "    </tr>\n",
              "    <tr>\n",
              "      <th>18205</th>\n",
              "      <td>18205</td>\n",
              "      <td>246268</td>\n",
              "      <td>D. Walker-Rice</td>\n",
              "      <td>17</td>\n",
              "      <td>https://cdn.sofifa.org/players/4/19/246268.png</td>\n",
              "      <td>England</td>\n",
              "      <td>https://cdn.sofifa.org/flags/14.png</td>\n",
              "      <td>47</td>\n",
              "      <td>66</td>\n",
              "      <td>Tranmere Rovers</td>\n",
              "      <td>...</td>\n",
              "      <td>46.0</td>\n",
              "      <td>20.0</td>\n",
              "      <td>25.0</td>\n",
              "      <td>27.0</td>\n",
              "      <td>14.0</td>\n",
              "      <td>6.0</td>\n",
              "      <td>14.0</td>\n",
              "      <td>8.0</td>\n",
              "      <td>9.0</td>\n",
              "      <td>€143K</td>\n",
              "    </tr>\n",
              "    <tr>\n",
              "      <th>18206</th>\n",
              "      <td>18206</td>\n",
              "      <td>246269</td>\n",
              "      <td>G. Nugent</td>\n",
              "      <td>16</td>\n",
              "      <td>https://cdn.sofifa.org/players/4/19/246269.png</td>\n",
              "      <td>England</td>\n",
              "      <td>https://cdn.sofifa.org/flags/14.png</td>\n",
              "      <td>46</td>\n",
              "      <td>66</td>\n",
              "      <td>Tranmere Rovers</td>\n",
              "      <td>...</td>\n",
              "      <td>43.0</td>\n",
              "      <td>40.0</td>\n",
              "      <td>43.0</td>\n",
              "      <td>50.0</td>\n",
              "      <td>10.0</td>\n",
              "      <td>15.0</td>\n",
              "      <td>9.0</td>\n",
              "      <td>12.0</td>\n",
              "      <td>9.0</td>\n",
              "      <td>€165K</td>\n",
              "    </tr>\n",
              "  </tbody>\n",
              "</table>\n",
              "<p>5 rows × 89 columns</p>\n",
              "</div>\n",
              "      <button class=\"colab-df-convert\" onclick=\"convertToInteractive('df-3f8802d3-26b8-47f9-b47b-422815f187c8')\"\n",
              "              title=\"Convert this dataframe to an interactive table.\"\n",
              "              style=\"display:none;\">\n",
              "        \n",
              "  <svg xmlns=\"http://www.w3.org/2000/svg\" height=\"24px\"viewBox=\"0 0 24 24\"\n",
              "       width=\"24px\">\n",
              "    <path d=\"M0 0h24v24H0V0z\" fill=\"none\"/>\n",
              "    <path d=\"M18.56 5.44l.94 2.06.94-2.06 2.06-.94-2.06-.94-.94-2.06-.94 2.06-2.06.94zm-11 1L8.5 8.5l.94-2.06 2.06-.94-2.06-.94L8.5 2.5l-.94 2.06-2.06.94zm10 10l.94 2.06.94-2.06 2.06-.94-2.06-.94-.94-2.06-.94 2.06-2.06.94z\"/><path d=\"M17.41 7.96l-1.37-1.37c-.4-.4-.92-.59-1.43-.59-.52 0-1.04.2-1.43.59L10.3 9.45l-7.72 7.72c-.78.78-.78 2.05 0 2.83L4 21.41c.39.39.9.59 1.41.59.51 0 1.02-.2 1.41-.59l7.78-7.78 2.81-2.81c.8-.78.8-2.07 0-2.86zM5.41 20L4 18.59l7.72-7.72 1.47 1.35L5.41 20z\"/>\n",
              "  </svg>\n",
              "      </button>\n",
              "      \n",
              "  <style>\n",
              "    .colab-df-container {\n",
              "      display:flex;\n",
              "      flex-wrap:wrap;\n",
              "      gap: 12px;\n",
              "    }\n",
              "\n",
              "    .colab-df-convert {\n",
              "      background-color: #E8F0FE;\n",
              "      border: none;\n",
              "      border-radius: 50%;\n",
              "      cursor: pointer;\n",
              "      display: none;\n",
              "      fill: #1967D2;\n",
              "      height: 32px;\n",
              "      padding: 0 0 0 0;\n",
              "      width: 32px;\n",
              "    }\n",
              "\n",
              "    .colab-df-convert:hover {\n",
              "      background-color: #E2EBFA;\n",
              "      box-shadow: 0px 1px 2px rgba(60, 64, 67, 0.3), 0px 1px 3px 1px rgba(60, 64, 67, 0.15);\n",
              "      fill: #174EA6;\n",
              "    }\n",
              "\n",
              "    [theme=dark] .colab-df-convert {\n",
              "      background-color: #3B4455;\n",
              "      fill: #D2E3FC;\n",
              "    }\n",
              "\n",
              "    [theme=dark] .colab-df-convert:hover {\n",
              "      background-color: #434B5C;\n",
              "      box-shadow: 0px 1px 3px 1px rgba(0, 0, 0, 0.15);\n",
              "      filter: drop-shadow(0px 1px 2px rgba(0, 0, 0, 0.3));\n",
              "      fill: #FFFFFF;\n",
              "    }\n",
              "  </style>\n",
              "\n",
              "      <script>\n",
              "        const buttonEl =\n",
              "          document.querySelector('#df-3f8802d3-26b8-47f9-b47b-422815f187c8 button.colab-df-convert');\n",
              "        buttonEl.style.display =\n",
              "          google.colab.kernel.accessAllowed ? 'block' : 'none';\n",
              "\n",
              "        async function convertToInteractive(key) {\n",
              "          const element = document.querySelector('#df-3f8802d3-26b8-47f9-b47b-422815f187c8');\n",
              "          const dataTable =\n",
              "            await google.colab.kernel.invokeFunction('convertToInteractive',\n",
              "                                                     [key], {});\n",
              "          if (!dataTable) return;\n",
              "\n",
              "          const docLinkHtml = 'Like what you see? Visit the ' +\n",
              "            '<a target=\"_blank\" href=https://colab.research.google.com/notebooks/data_table.ipynb>data table notebook</a>'\n",
              "            + ' to learn more about interactive tables.';\n",
              "          element.innerHTML = '';\n",
              "          dataTable['output_type'] = 'display_data';\n",
              "          await google.colab.output.renderOutput(dataTable, element);\n",
              "          const docLink = document.createElement('div');\n",
              "          docLink.innerHTML = docLinkHtml;\n",
              "          element.appendChild(docLink);\n",
              "        }\n",
              "      </script>\n",
              "    </div>\n",
              "  </div>\n",
              "  "
            ]
          },
          "metadata": {},
          "execution_count": 111
        }
      ],
      "source": [
        "df.tail()"
      ]
    },
    {
      "cell_type": "code",
      "execution_count": 112,
      "metadata": {
        "id": "mdtnHCZMYJJS",
        "outputId": "5d5316e3-8206-4325-f8c2-cf82ec8db35a",
        "colab": {
          "base_uri": "https://localhost:8080/",
          "height": 0
        }
      },
      "outputs": [
        {
          "output_type": "execute_result",
          "data": {
            "text/plain": [
              "       Overall  Age  International Reputation  Weak Foot  Skill Moves\n",
              "0           94   31                       5.0        4.0          4.0\n",
              "1           94   33                       5.0        4.0          5.0\n",
              "2           92   26                       5.0        5.0          5.0\n",
              "3           91   27                       4.0        3.0          1.0\n",
              "4           91   27                       4.0        5.0          4.0\n",
              "...        ...  ...                       ...        ...          ...\n",
              "18202       47   19                       1.0        2.0          2.0\n",
              "18203       47   19                       1.0        2.0          2.0\n",
              "18204       47   16                       1.0        3.0          2.0\n",
              "18205       47   17                       1.0        3.0          2.0\n",
              "18206       46   16                       1.0        3.0          2.0\n",
              "\n",
              "[18159 rows x 5 columns]"
            ],
            "text/html": [
              "\n",
              "  <div id=\"df-ec992fae-544c-492f-883b-f212bab09d6c\">\n",
              "    <div class=\"colab-df-container\">\n",
              "      <div>\n",
              "<style scoped>\n",
              "    .dataframe tbody tr th:only-of-type {\n",
              "        vertical-align: middle;\n",
              "    }\n",
              "\n",
              "    .dataframe tbody tr th {\n",
              "        vertical-align: top;\n",
              "    }\n",
              "\n",
              "    .dataframe thead th {\n",
              "        text-align: right;\n",
              "    }\n",
              "</style>\n",
              "<table border=\"1\" class=\"dataframe\">\n",
              "  <thead>\n",
              "    <tr style=\"text-align: right;\">\n",
              "      <th></th>\n",
              "      <th>Overall</th>\n",
              "      <th>Age</th>\n",
              "      <th>International Reputation</th>\n",
              "      <th>Weak Foot</th>\n",
              "      <th>Skill Moves</th>\n",
              "    </tr>\n",
              "  </thead>\n",
              "  <tbody>\n",
              "    <tr>\n",
              "      <th>0</th>\n",
              "      <td>94</td>\n",
              "      <td>31</td>\n",
              "      <td>5.0</td>\n",
              "      <td>4.0</td>\n",
              "      <td>4.0</td>\n",
              "    </tr>\n",
              "    <tr>\n",
              "      <th>1</th>\n",
              "      <td>94</td>\n",
              "      <td>33</td>\n",
              "      <td>5.0</td>\n",
              "      <td>4.0</td>\n",
              "      <td>5.0</td>\n",
              "    </tr>\n",
              "    <tr>\n",
              "      <th>2</th>\n",
              "      <td>92</td>\n",
              "      <td>26</td>\n",
              "      <td>5.0</td>\n",
              "      <td>5.0</td>\n",
              "      <td>5.0</td>\n",
              "    </tr>\n",
              "    <tr>\n",
              "      <th>3</th>\n",
              "      <td>91</td>\n",
              "      <td>27</td>\n",
              "      <td>4.0</td>\n",
              "      <td>3.0</td>\n",
              "      <td>1.0</td>\n",
              "    </tr>\n",
              "    <tr>\n",
              "      <th>4</th>\n",
              "      <td>91</td>\n",
              "      <td>27</td>\n",
              "      <td>4.0</td>\n",
              "      <td>5.0</td>\n",
              "      <td>4.0</td>\n",
              "    </tr>\n",
              "    <tr>\n",
              "      <th>...</th>\n",
              "      <td>...</td>\n",
              "      <td>...</td>\n",
              "      <td>...</td>\n",
              "      <td>...</td>\n",
              "      <td>...</td>\n",
              "    </tr>\n",
              "    <tr>\n",
              "      <th>18202</th>\n",
              "      <td>47</td>\n",
              "      <td>19</td>\n",
              "      <td>1.0</td>\n",
              "      <td>2.0</td>\n",
              "      <td>2.0</td>\n",
              "    </tr>\n",
              "    <tr>\n",
              "      <th>18203</th>\n",
              "      <td>47</td>\n",
              "      <td>19</td>\n",
              "      <td>1.0</td>\n",
              "      <td>2.0</td>\n",
              "      <td>2.0</td>\n",
              "    </tr>\n",
              "    <tr>\n",
              "      <th>18204</th>\n",
              "      <td>47</td>\n",
              "      <td>16</td>\n",
              "      <td>1.0</td>\n",
              "      <td>3.0</td>\n",
              "      <td>2.0</td>\n",
              "    </tr>\n",
              "    <tr>\n",
              "      <th>18205</th>\n",
              "      <td>47</td>\n",
              "      <td>17</td>\n",
              "      <td>1.0</td>\n",
              "      <td>3.0</td>\n",
              "      <td>2.0</td>\n",
              "    </tr>\n",
              "    <tr>\n",
              "      <th>18206</th>\n",
              "      <td>46</td>\n",
              "      <td>16</td>\n",
              "      <td>1.0</td>\n",
              "      <td>3.0</td>\n",
              "      <td>2.0</td>\n",
              "    </tr>\n",
              "  </tbody>\n",
              "</table>\n",
              "<p>18159 rows × 5 columns</p>\n",
              "</div>\n",
              "      <button class=\"colab-df-convert\" onclick=\"convertToInteractive('df-ec992fae-544c-492f-883b-f212bab09d6c')\"\n",
              "              title=\"Convert this dataframe to an interactive table.\"\n",
              "              style=\"display:none;\">\n",
              "        \n",
              "  <svg xmlns=\"http://www.w3.org/2000/svg\" height=\"24px\"viewBox=\"0 0 24 24\"\n",
              "       width=\"24px\">\n",
              "    <path d=\"M0 0h24v24H0V0z\" fill=\"none\"/>\n",
              "    <path d=\"M18.56 5.44l.94 2.06.94-2.06 2.06-.94-2.06-.94-.94-2.06-.94 2.06-2.06.94zm-11 1L8.5 8.5l.94-2.06 2.06-.94-2.06-.94L8.5 2.5l-.94 2.06-2.06.94zm10 10l.94 2.06.94-2.06 2.06-.94-2.06-.94-.94-2.06-.94 2.06-2.06.94z\"/><path d=\"M17.41 7.96l-1.37-1.37c-.4-.4-.92-.59-1.43-.59-.52 0-1.04.2-1.43.59L10.3 9.45l-7.72 7.72c-.78.78-.78 2.05 0 2.83L4 21.41c.39.39.9.59 1.41.59.51 0 1.02-.2 1.41-.59l7.78-7.78 2.81-2.81c.8-.78.8-2.07 0-2.86zM5.41 20L4 18.59l7.72-7.72 1.47 1.35L5.41 20z\"/>\n",
              "  </svg>\n",
              "      </button>\n",
              "      \n",
              "  <style>\n",
              "    .colab-df-container {\n",
              "      display:flex;\n",
              "      flex-wrap:wrap;\n",
              "      gap: 12px;\n",
              "    }\n",
              "\n",
              "    .colab-df-convert {\n",
              "      background-color: #E8F0FE;\n",
              "      border: none;\n",
              "      border-radius: 50%;\n",
              "      cursor: pointer;\n",
              "      display: none;\n",
              "      fill: #1967D2;\n",
              "      height: 32px;\n",
              "      padding: 0 0 0 0;\n",
              "      width: 32px;\n",
              "    }\n",
              "\n",
              "    .colab-df-convert:hover {\n",
              "      background-color: #E2EBFA;\n",
              "      box-shadow: 0px 1px 2px rgba(60, 64, 67, 0.3), 0px 1px 3px 1px rgba(60, 64, 67, 0.15);\n",
              "      fill: #174EA6;\n",
              "    }\n",
              "\n",
              "    [theme=dark] .colab-df-convert {\n",
              "      background-color: #3B4455;\n",
              "      fill: #D2E3FC;\n",
              "    }\n",
              "\n",
              "    [theme=dark] .colab-df-convert:hover {\n",
              "      background-color: #434B5C;\n",
              "      box-shadow: 0px 1px 3px 1px rgba(0, 0, 0, 0.15);\n",
              "      filter: drop-shadow(0px 1px 2px rgba(0, 0, 0, 0.3));\n",
              "      fill: #FFFFFF;\n",
              "    }\n",
              "  </style>\n",
              "\n",
              "      <script>\n",
              "        const buttonEl =\n",
              "          document.querySelector('#df-ec992fae-544c-492f-883b-f212bab09d6c button.colab-df-convert');\n",
              "        buttonEl.style.display =\n",
              "          google.colab.kernel.accessAllowed ? 'block' : 'none';\n",
              "\n",
              "        async function convertToInteractive(key) {\n",
              "          const element = document.querySelector('#df-ec992fae-544c-492f-883b-f212bab09d6c');\n",
              "          const dataTable =\n",
              "            await google.colab.kernel.invokeFunction('convertToInteractive',\n",
              "                                                     [key], {});\n",
              "          if (!dataTable) return;\n",
              "\n",
              "          const docLinkHtml = 'Like what you see? Visit the ' +\n",
              "            '<a target=\"_blank\" href=https://colab.research.google.com/notebooks/data_table.ipynb>data table notebook</a>'\n",
              "            + ' to learn more about interactive tables.';\n",
              "          element.innerHTML = '';\n",
              "          dataTable['output_type'] = 'display_data';\n",
              "          await google.colab.output.renderOutput(dataTable, element);\n",
              "          const docLink = document.createElement('div');\n",
              "          docLink.innerHTML = docLinkHtml;\n",
              "          element.appendChild(docLink);\n",
              "        }\n",
              "      </script>\n",
              "    </div>\n",
              "  </div>\n",
              "  "
            ]
          },
          "metadata": {},
          "execution_count": 112
        }
      ],
      "source": [
        "subset"
      ]
    },
    {
      "cell_type": "code",
      "execution_count": 113,
      "metadata": {
        "id": "gSNHQR6FYJJT",
        "outputId": "9b9f64b5-522f-4db1-a02f-98debaa28282",
        "colab": {
          "base_uri": "https://localhost:8080/"
        }
      },
      "outputs": [
        {
          "output_type": "execute_result",
          "data": {
            "text/plain": [
              "Index(['Age', 'International Reputation', 'Weak Foot', 'Skill Moves'], dtype='object')"
            ]
          },
          "metadata": {},
          "execution_count": 113
        }
      ],
      "source": [
        "columns = subset.columns[1:]\n",
        "columns"
      ]
    },
    {
      "cell_type": "code",
      "execution_count": 114,
      "metadata": {
        "id": "fA05_-VUYJJT",
        "outputId": "41d91ce3-661a-4eb2-a5f7-49a001a99d76",
        "colab": {
          "base_uri": "https://localhost:8080/"
        }
      },
      "outputs": [
        {
          "output_type": "execute_result",
          "data": {
            "text/plain": [
              "array([[94., 31.,  5.,  4.,  4.],\n",
              "       [94., 33.,  5.,  4.,  5.],\n",
              "       [92., 26.,  5.,  5.,  5.],\n",
              "       ...,\n",
              "       [47., 16.,  1.,  3.,  2.],\n",
              "       [47., 17.,  1.,  3.,  2.],\n",
              "       [46., 16.,  1.,  3.,  2.]])"
            ]
          },
          "metadata": {},
          "execution_count": 114
        }
      ],
      "source": [
        "subset.values"
      ]
    },
    {
      "cell_type": "code",
      "execution_count": 115,
      "metadata": {
        "id": "hcm1XbsCYJJU",
        "outputId": "33cb92db-f8bc-4cd2-fea8-fe66dfb8e92d",
        "colab": {
          "base_uri": "https://localhost:8080/"
        }
      },
      "outputs": [
        {
          "output_type": "execute_result",
          "data": {
            "text/plain": [
              "numpy.ndarray"
            ]
          },
          "metadata": {},
          "execution_count": 115
        }
      ],
      "source": [
        "type(subset.values)"
      ]
    },
    {
      "cell_type": "code",
      "execution_count": 116,
      "metadata": {
        "id": "SeXTw-CKYJJV",
        "outputId": "8d734a79-f8f6-4778-d895-e95a4f3409d2",
        "colab": {
          "base_uri": "https://localhost:8080/"
        }
      },
      "outputs": [
        {
          "output_type": "execute_result",
          "data": {
            "text/plain": [
              "(torch.Size([18159, 5]), 'torch.FloatTensor')"
            ]
          },
          "metadata": {},
          "execution_count": 116
        }
      ],
      "source": [
        "players = torch.tensor(subset.values).float()\n",
        "players.shape, players.type()"
      ]
    },
    {
      "cell_type": "code",
      "execution_count": 117,
      "metadata": {
        "id": "7mSzmImYYJJW",
        "outputId": "c535abb3-aff9-4ae7-fad4-8c9fa72ee02f",
        "colab": {
          "base_uri": "https://localhost:8080/"
        }
      },
      "outputs": [
        {
          "output_type": "execute_result",
          "data": {
            "text/plain": [
              "torch.Size([18159, 4])"
            ]
          },
          "metadata": {},
          "execution_count": 117
        }
      ],
      "source": [
        "data = players[:, 1:]\n",
        "data.shape"
      ]
    },
    {
      "cell_type": "code",
      "execution_count": 118,
      "metadata": {
        "id": "YovlIRovYJJW",
        "outputId": "d5f20a4f-7c67-4145-8128-3f34f70897b8",
        "colab": {
          "base_uri": "https://localhost:8080/"
        }
      },
      "outputs": [
        {
          "output_type": "execute_result",
          "data": {
            "text/plain": [
              "tensor([[31.,  5.,  4.,  4.],\n",
              "        [33.,  5.,  4.,  5.],\n",
              "        [26.,  5.,  5.,  5.],\n",
              "        ...,\n",
              "        [16.,  1.,  3.,  2.],\n",
              "        [17.,  1.,  3.,  2.],\n",
              "        [16.,  1.,  3.,  2.]])"
            ]
          },
          "metadata": {},
          "execution_count": 118
        }
      ],
      "source": [
        "data"
      ]
    },
    {
      "cell_type": "code",
      "execution_count": 119,
      "metadata": {
        "id": "WFkJ0cSzYJJX",
        "outputId": "f0416c8e-e271-4477-b996-b34f7d7cdf88",
        "colab": {
          "base_uri": "https://localhost:8080/"
        }
      },
      "outputs": [
        {
          "output_type": "execute_result",
          "data": {
            "text/plain": [
              "torch.Tensor"
            ]
          },
          "metadata": {},
          "execution_count": 119
        }
      ],
      "source": [
        "type(data)"
      ]
    },
    {
      "cell_type": "code",
      "execution_count": 120,
      "metadata": {
        "id": "o0x8yjHcYJJY",
        "outputId": "7ec2b307-8bb2-436b-83b6-0646c7f7ae96",
        "colab": {
          "base_uri": "https://localhost:8080/"
        }
      },
      "outputs": [
        {
          "output_type": "execute_result",
          "data": {
            "text/plain": [
              "torch.Size([18159])"
            ]
          },
          "metadata": {},
          "execution_count": 120
        }
      ],
      "source": [
        "target = players[:,0]\n",
        "target.shape"
      ]
    },
    {
      "cell_type": "code",
      "execution_count": 121,
      "metadata": {
        "id": "HmENy0IPYJJY",
        "outputId": "3adf3711-ff58-4088-e5bb-6b6b0d0399fb",
        "colab": {
          "base_uri": "https://localhost:8080/"
        }
      },
      "outputs": [
        {
          "output_type": "execute_result",
          "data": {
            "text/plain": [
              "tensor([94., 94., 92.,  ..., 47., 47., 46.])"
            ]
          },
          "metadata": {},
          "execution_count": 121
        }
      ],
      "source": [
        "target"
      ]
    },
    {
      "cell_type": "code",
      "execution_count": 122,
      "metadata": {
        "id": "q1IsNNDVYJJZ",
        "outputId": "2419f852-a665-49f5-c145-e845a95e3bb4",
        "colab": {
          "base_uri": "https://localhost:8080/"
        }
      },
      "outputs": [
        {
          "output_type": "execute_result",
          "data": {
            "text/plain": [
              "tensor([25.1225,  1.1132,  2.9473,  2.3613])"
            ]
          },
          "metadata": {},
          "execution_count": 122
        }
      ],
      "source": [
        "mean = torch.mean(data, dim=0)\n",
        "mean"
      ]
    },
    {
      "cell_type": "code",
      "execution_count": 123,
      "metadata": {
        "id": "8-tZeMasYJJb",
        "outputId": "f558403e-2572-4249-a1d9-bfdee2a825ba",
        "colab": {
          "base_uri": "https://localhost:8080/"
        }
      },
      "outputs": [
        {
          "output_type": "execute_result",
          "data": {
            "text/plain": [
              "tensor([4.6706, 0.3940, 0.6605, 0.7562])"
            ]
          },
          "metadata": {},
          "execution_count": 123
        }
      ],
      "source": [
        "std = torch.std(data, dim=0)\n",
        "std"
      ]
    },
    {
      "cell_type": "code",
      "execution_count": 124,
      "metadata": {
        "id": "GZrvdlWSYJJc",
        "outputId": "de7cc086-6ee0-43a9-bffc-9c82a463d53f",
        "colab": {
          "base_uri": "https://localhost:8080/"
        }
      },
      "outputs": [
        {
          "output_type": "execute_result",
          "data": {
            "text/plain": [
              "tensor([[ 2.7196,  6.1919,  1.2953,  1.8845],\n",
              "        [ 3.6450,  6.1919,  1.2953,  3.0345],\n",
              "        [ 0.4060,  6.1919,  2.5258,  3.0345],\n",
              "        ...,\n",
              "        [-4.2211, -0.1804,  0.0648, -0.4155],\n",
              "        [-3.7584, -0.1804,  0.0648, -0.4155],\n",
              "        [-4.2211, -0.1804,  0.0648, -0.4155]])"
            ]
          },
          "metadata": {},
          "execution_count": 124
        }
      ],
      "source": [
        "norm = (data-mean)/torch.sqrt(std) #Normalized val\n",
        "norm"
      ]
    },
    {
      "cell_type": "code",
      "execution_count": 125,
      "metadata": {
        "id": "8lO-04TdYJJd",
        "outputId": "6c75e9a6-373c-4115-d3ec-29c54d344d5a",
        "colab": {
          "base_uri": "https://localhost:8080/"
        }
      },
      "outputs": [
        {
          "output_type": "execute_result",
          "data": {
            "text/plain": [
              "(tensor([28.3455,  3.3818,  3.4455,  3.0364]),\n",
              " tensor([27.2285,  1.3561,  3.1114,  2.7515]),\n",
              " tensor([24.3676,  1.0106,  2.8864,  2.2208]))"
            ]
          },
          "metadata": {},
          "execution_count": 125
        }
      ],
      "source": [
        "good = data[torch.ge(target , 85)] # Grater or equal\n",
        "average = data[torch.gt(target, 70) & torch.lt(target, 85)] # Greater Than and less than\n",
        "not_good = data[torch.le(target, 70)] # Less or equal\n",
        "\n",
        "\n",
        "mean_g = torch.mean(good, dim=0)\n",
        "mean_avg = torch.mean(average, dim=0)\n",
        "mean_bad = torch.mean(not_good, dim=0)\n",
        "\n",
        "mean_g, mean_avg, mean_bad"
      ]
    },
    {
      "cell_type": "code",
      "execution_count": 126,
      "metadata": {
        "id": "5CzPsfriYJJe"
      },
      "outputs": [],
      "source": [
        "# df"
      ]
    },
    {
      "cell_type": "code",
      "execution_count": 127,
      "metadata": {
        "id": "Xrhn09GdYJJe",
        "outputId": "2701c291-c8ec-420b-f1ce-ea2c8f6e571b",
        "colab": {
          "base_uri": "https://localhost:8080/"
        }
      },
      "outputs": [
        {
          "output_type": "stream",
          "name": "stdout",
          "text": [
            " Age                        28.35  27.23  24.37\n",
            " International Reputation    3.38   1.36   1.01\n",
            " Weak Foot                   3.45   3.11   2.89\n",
            " Skill Moves                 3.04   2.75   2.22\n"
          ]
        }
      ],
      "source": [
        "for i, args in enumerate(zip(columns, mean_g, mean_avg, mean_bad)):\n",
        "    print(' {:25} {:6.2f} {:6.2f} {:6.2f}'.format(*args))"
      ]
    },
    {
      "cell_type": "markdown",
      "metadata": {
        "id": "4MSytzi0YJJf"
      },
      "source": [
        "## Device"
      ]
    },
    {
      "cell_type": "code",
      "execution_count": 128,
      "metadata": {
        "id": "N57aoT1mYJJg",
        "outputId": "cf25f49a-ccde-48c8-f861-0bf8e54159c5",
        "colab": {
          "base_uri": "https://localhost:8080/"
        }
      },
      "outputs": [
        {
          "output_type": "execute_result",
          "data": {
            "text/plain": [
              "device(type='cpu')"
            ]
          },
          "metadata": {},
          "execution_count": 128
        }
      ],
      "source": [
        "# CPU or GPU\n",
        "good.device"
      ]
    },
    {
      "cell_type": "code",
      "execution_count": 129,
      "metadata": {
        "id": "gU0KZpI4YJJh",
        "outputId": "89a7d102-004a-4ca0-bfa8-5c85f03b93bc",
        "colab": {
          "base_uri": "https://localhost:8080/"
        }
      },
      "outputs": [
        {
          "output_type": "execute_result",
          "data": {
            "text/plain": [
              "False"
            ]
          },
          "metadata": {},
          "execution_count": 129
        }
      ],
      "source": [
        "torch.cuda.is_available() # GPU is available "
      ]
    },
    {
      "cell_type": "code",
      "execution_count": 130,
      "metadata": {
        "id": "RhZycnBMYJJh"
      },
      "outputs": [],
      "source": [
        "# set up device \n",
        "device = torch.device('cuda' if torch.cuda.is_available() else 'cpu')\n"
      ]
    },
    {
      "cell_type": "code",
      "execution_count": 131,
      "metadata": {
        "id": "ady7wC8OYJJi"
      },
      "outputs": [],
      "source": [
        "x = torch.randn(3,5) # CPU\n",
        "y = torch.ones_like(x, device=device) # GPU"
      ]
    },
    {
      "cell_type": "code",
      "execution_count": 132,
      "metadata": {
        "id": "uSlquzTpYJJi"
      },
      "outputs": [],
      "source": [
        "x = x.to(device) # to gpu"
      ]
    },
    {
      "cell_type": "code",
      "execution_count": 133,
      "metadata": {
        "id": "5rJAEZHdYJJj",
        "outputId": "2d634b14-1153-4465-f178-61779d1450ea",
        "colab": {
          "base_uri": "https://localhost:8080/"
        }
      },
      "outputs": [
        {
          "output_type": "execute_result",
          "data": {
            "text/plain": [
              "tensor([[ 0.8234,  1.7907, -0.1630,  2.0560,  1.2675],\n",
              "        [-0.0089,  0.9608,  1.0237,  0.6072,  1.3931],\n",
              "        [-0.7700,  2.8354,  3.1524,  1.3709,  3.2291]])"
            ]
          },
          "metadata": {},
          "execution_count": 133
        }
      ],
      "source": [
        "r = x + y \n",
        "r          #r.cpu() cpu"
      ]
    },
    {
      "cell_type": "markdown",
      "metadata": {
        "id": "VliFBg-7YJJk"
      },
      "source": [
        "### CIFAR"
      ]
    },
    {
      "cell_type": "code",
      "execution_count": 134,
      "metadata": {
        "id": "E0As_dxeYJJk"
      },
      "outputs": [],
      "source": [
        "from torchvision import datasets"
      ]
    },
    {
      "cell_type": "code",
      "execution_count": 135,
      "metadata": {
        "id": "Ba60QWYIYJJl",
        "outputId": "34b49886-c3e5-4f8a-90ea-715458502c5a",
        "colab": {
          "base_uri": "https://localhost:8080/"
        }
      },
      "outputs": [
        {
          "output_type": "execute_result",
          "data": {
            "text/plain": [
              "['CIFAR10',\n",
              " 'CIFAR100',\n",
              " 'CLEVRClassification',\n",
              " 'Caltech101',\n",
              " 'Caltech256',\n",
              " 'CelebA',\n",
              " 'Cityscapes',\n",
              " 'CocoCaptions',\n",
              " 'CocoDetection',\n",
              " 'Country211',\n",
              " 'DTD',\n",
              " 'DatasetFolder',\n",
              " 'EMNIST',\n",
              " 'EuroSAT',\n",
              " 'FER2013',\n",
              " 'FGVCAircraft',\n",
              " 'FakeData',\n",
              " 'FashionMNIST',\n",
              " 'Flickr30k',\n",
              " 'Flickr8k',\n",
              " 'Flowers102',\n",
              " 'FlyingChairs',\n",
              " 'FlyingThings3D',\n",
              " 'Food101',\n",
              " 'GTSRB',\n",
              " 'HD1K',\n",
              " 'HMDB51',\n",
              " 'INaturalist',\n",
              " 'ImageFolder',\n",
              " 'ImageNet',\n",
              " 'KMNIST',\n",
              " 'Kinetics',\n",
              " 'Kinetics400',\n",
              " 'Kitti',\n",
              " 'KittiFlow',\n",
              " 'LFWPairs',\n",
              " 'LFWPeople',\n",
              " 'LSUN',\n",
              " 'LSUNClass',\n",
              " 'MNIST',\n",
              " 'Omniglot',\n",
              " 'OxfordIIITPet',\n",
              " 'PCAM',\n",
              " 'PhotoTour',\n",
              " 'Places365',\n",
              " 'QMNIST',\n",
              " 'RenderedSST2',\n",
              " 'SBDataset',\n",
              " 'SBU',\n",
              " 'SEMEION',\n",
              " 'STL10',\n",
              " 'SUN397',\n",
              " 'SVHN',\n",
              " 'Sintel',\n",
              " 'StanfordCars',\n",
              " 'UCF101',\n",
              " 'USPS',\n",
              " 'VOCDetection',\n",
              " 'VOCSegmentation',\n",
              " 'VisionDataset',\n",
              " 'WIDERFace',\n",
              " '__all__',\n",
              " '__builtins__',\n",
              " '__cached__',\n",
              " '__doc__',\n",
              " '__file__',\n",
              " '__loader__',\n",
              " '__name__',\n",
              " '__package__',\n",
              " '__path__',\n",
              " '__spec__',\n",
              " '_optical_flow',\n",
              " 'caltech',\n",
              " 'celeba',\n",
              " 'cifar',\n",
              " 'cityscapes',\n",
              " 'clevr',\n",
              " 'coco',\n",
              " 'country211',\n",
              " 'dtd',\n",
              " 'eurosat',\n",
              " 'fakedata',\n",
              " 'fer2013',\n",
              " 'fgvc_aircraft',\n",
              " 'flickr',\n",
              " 'flowers102',\n",
              " 'folder',\n",
              " 'food101',\n",
              " 'gtsrb',\n",
              " 'hmdb51',\n",
              " 'imagenet',\n",
              " 'inaturalist',\n",
              " 'kinetics',\n",
              " 'kitti',\n",
              " 'lfw',\n",
              " 'lsun',\n",
              " 'mnist',\n",
              " 'omniglot',\n",
              " 'oxford_iiit_pet',\n",
              " 'pcam',\n",
              " 'phototour',\n",
              " 'places365',\n",
              " 'rendered_sst2',\n",
              " 'sbd',\n",
              " 'sbu',\n",
              " 'semeion',\n",
              " 'stanford_cars',\n",
              " 'stl10',\n",
              " 'sun397',\n",
              " 'svhn',\n",
              " 'ucf101',\n",
              " 'usps',\n",
              " 'utils',\n",
              " 'video_utils',\n",
              " 'vision',\n",
              " 'voc',\n",
              " 'widerface']"
            ]
          },
          "metadata": {},
          "execution_count": 135
        }
      ],
      "source": [
        "dir(datasets)"
      ]
    },
    {
      "cell_type": "code",
      "execution_count": 136,
      "metadata": {
        "id": "oi-g7paCYJJl",
        "outputId": "869bbf58-dc23-4f54-a836-f76f22bb592b",
        "colab": {
          "base_uri": "https://localhost:8080/"
        }
      },
      "outputs": [
        {
          "output_type": "stream",
          "name": "stdout",
          "text": [
            "Files already downloaded and verified\n"
          ]
        }
      ],
      "source": [
        "cifar = datasets.CIFAR10('./data/(datasets)', download=True)"
      ]
    },
    {
      "cell_type": "code",
      "execution_count": 137,
      "metadata": {
        "id": "mK9yPIVwYJJm",
        "outputId": "c23c6372-0eb8-407d-df2b-20880c5603cd",
        "colab": {
          "base_uri": "https://localhost:8080/"
        }
      },
      "outputs": [
        {
          "output_type": "execute_result",
          "data": {
            "text/plain": [
              "50000"
            ]
          },
          "metadata": {},
          "execution_count": 137
        }
      ],
      "source": [
        "len(cifar)"
      ]
    },
    {
      "cell_type": "code",
      "execution_count": 138,
      "metadata": {
        "id": "PzDorIEWYJJn",
        "outputId": "c7d750bc-ee0f-4a1f-cc33-bad8963e123e",
        "colab": {
          "base_uri": "https://localhost:8080/"
        }
      },
      "outputs": [
        {
          "output_type": "execute_result",
          "data": {
            "text/plain": [
              "torch.Size([50000, 32, 32, 3])"
            ]
          },
          "metadata": {},
          "execution_count": 138
        }
      ],
      "source": [
        "data = torch.Tensor(cifar.data)\n",
        "data.size()"
      ]
    },
    {
      "cell_type": "markdown",
      "metadata": {
        "id": "tzl_ci9jYJJo"
      },
      "source": [
        "50000 - Imgs\n",
        "32x32 pixels\n",
        "3 ch (RGB)"
      ]
    },
    {
      "cell_type": "code",
      "execution_count": 139,
      "metadata": {
        "id": "WmXvsfazYJJp"
      },
      "outputs": [],
      "source": [
        "import matplotlib.pyplot as plt\n",
        "%matplotlib inline"
      ]
    },
    {
      "cell_type": "code",
      "execution_count": 140,
      "metadata": {
        "id": "E5JfZaxRYJJq",
        "outputId": "ff425368-2afd-40e0-8b79-ad76153db3be",
        "colab": {
          "base_uri": "https://localhost:8080/",
          "height": 0
        }
      },
      "outputs": [
        {
          "output_type": "stream",
          "name": "stdout",
          "text": [
            "dog\n"
          ]
        },
        {
          "output_type": "execute_result",
          "data": {
            "text/plain": [
              "<matplotlib.image.AxesImage at 0x7f541ee3ded0>"
            ]
          },
          "metadata": {},
          "execution_count": 140
        },
        {
          "output_type": "display_data",
          "data": {
            "text/plain": [
              "<Figure size 432x288 with 1 Axes>"
            ],
            "image/png": "[encoded data removed]"
          },
          "metadata": {
            "needs_background": "light"
          }
        }
      ],
      "source": [
        "img, label = cifar[40]\n",
        "classes = ['plane','car','bird','cat','deer','dog','frog','horse','ship','truck']\n",
        "print(classes[label])\n",
        "plt.imshow(img)"
      ]
    },
    {
      "cell_type": "code",
      "execution_count": 141,
      "metadata": {
        "id": "C2FH7VNZYJJr",
        "outputId": "f8389503-1fdd-4ad5-819f-7fc687dbfa0b",
        "colab": {
          "base_uri": "https://localhost:8080/",
          "height": 0
        }
      },
      "outputs": [
        {
          "output_type": "stream",
          "name": "stdout",
          "text": [
            "deer\n"
          ]
        },
        {
          "output_type": "execute_result",
          "data": {
            "text/plain": [
              "<matplotlib.image.AxesImage at 0x7f541f77bd50>"
            ]
          },
          "metadata": {},
          "execution_count": 141
        },
        {
          "output_type": "display_data",
          "data": {
            "text/plain": [
              "<Figure size 432x288 with 1 Axes>"
            ],
            "image/png": "[encoded data removed]"
          },
          "metadata": {
            "needs_background": "light"
          }
        }
      ],
      "source": [
        "img, label = cifar[10]\n",
        "classes = ['plane','car','bird','cat','deer','dog','frog','horse','ship','truck']\n",
        "print(classes[label])\n",
        "plt.imshow(img)"
      ]
    },
    {
      "cell_type": "code",
      "execution_count": 142,
      "metadata": {
        "id": "YqEcUlD3YJJs",
        "outputId": "e85ef282-fd24-45bc-9f8c-cf98a93ee551",
        "colab": {
          "base_uri": "https://localhost:8080/",
          "height": 0
        }
      },
      "outputs": [
        {
          "output_type": "stream",
          "name": "stdout",
          "text": [
            "car\n"
          ]
        },
        {
          "output_type": "execute_result",
          "data": {
            "text/plain": [
              "<matplotlib.image.AxesImage at 0x7f541ed18910>"
            ]
          },
          "metadata": {},
          "execution_count": 142
        },
        {
          "output_type": "display_data",
          "data": {
            "text/plain": [
              "<Figure size 432x288 with 1 Axes>"
            ],
            "image/png": "[encoded data removed]"
          },
          "metadata": {
            "needs_background": "light"
          }
        }
      ],
      "source": [
        "img, label = cifar[5]\n",
        "classes = ['plane','car','bird','cat','deer','dog','frog','horse','ship','truck']\n",
        "print(classes[label])\n",
        "plt.imshow(img)"
      ]
    },
    {
      "cell_type": "markdown",
      "metadata": {
        "id": "ZK1VDHlmYJJt"
      },
      "source": [
        "# Sample Model"
      ]
    },
    {
      "cell_type": "code",
      "execution_count": 148,
      "metadata": {
        "id": "al1GAWgYYJJu"
      },
      "outputs": [],
      "source": [
        "import torch.nn as nn "
      ]
    },
    {
      "cell_type": "code",
      "execution_count": 149,
      "metadata": {
        "id": "RT70VTS3YJJv"
      },
      "outputs": [],
      "source": [
        "linear = nn.Linear(in_features=4096, out_features=10) # 1 dim tensor \n",
        "conv = nn.Conv2d(in_channels=3, out_channels=9, kernel_size=3, stride=1, padding=1) # 2D to img 3D to video\n",
        "relu = nn.ReLU(False)\n"
      ]
    },
    {
      "cell_type": "code",
      "execution_count": 150,
      "metadata": {
        "id": "sK9vxXdfYJJv",
        "outputId": "b28c631e-5379-4b10-898d-27ac48aca8bc",
        "colab": {
          "base_uri": "https://localhost:8080/"
        }
      },
      "outputs": [
        {
          "output_type": "execute_result",
          "data": {
            "text/plain": [
              "torch.Size([10])"
            ]
          },
          "metadata": {},
          "execution_count": 150
        }
      ],
      "source": [
        "x = torch.randn(4096)\n",
        "y = linear(x)\n",
        "y.size()"
      ]
    },
    {
      "cell_type": "code",
      "execution_count": 151,
      "metadata": {
        "id": "f7p_sQvRYJJy",
        "outputId": "4fe1af8f-8d6f-4665-d8a1-3756410d77ea",
        "colab": {
          "base_uri": "https://localhost:8080/"
        }
      },
      "outputs": [
        {
          "output_type": "execute_result",
          "data": {
            "text/plain": [
              "(torch.Size([1, 9, 7, 7]), torch.Size([1, 3, 7, 7]))"
            ]
          },
          "metadata": {},
          "execution_count": 151
        }
      ],
      "source": [
        "# Image\n",
        "\n",
        "x = torch.randn(1,3,7,7) # 1 img - 3 ch - 7x7 px \n",
        "y = conv(x)\n",
        "z = relu(x)\n",
        "y.size(), z.size()"
      ]
    },
    {
      "cell_type": "code",
      "execution_count": 152,
      "metadata": {
        "id": "N7g1CFR7YJJz",
        "outputId": "6bc10032-b047-49c7-d3c9-632fee8b2c40",
        "colab": {
          "base_uri": "https://localhost:8080/"
        }
      },
      "outputs": [
        {
          "output_type": "stream",
          "name": "stdout",
          "text": [
            "weight\n",
            "torch.Size([10, 4096])\n",
            "bias\n",
            "torch.Size([10])\n"
          ]
        }
      ],
      "source": [
        "for name, param in linear.named_parameters():\n",
        "    print(name)\n",
        "    print(param.size())"
      ]
    },
    {
      "cell_type": "code",
      "execution_count": 152,
      "metadata": {
        "id": "i6UAqvN5YJJz"
      },
      "outputs": [],
      "source": []
    }
  ],
  "metadata": {
    "kernelspec": {
      "display_name": "Python 3",
      "language": "python",
      "name": "python3"
    },
    "language_info": {
      "codemirror_mode": {
        "name": "ipython",
        "version": 3
      },
      "file_extension": ".py",
      "mimetype": "text/x-python",
      "name": "python",
      "nbconvert_exporter": "python",
      "pygments_lexer": "ipython3",
      "version": "3.7.6"
    },
    "colab": {
      "provenance": []
    }
  },
  "nbformat": 4,
  "nbformat_minor": 0
}